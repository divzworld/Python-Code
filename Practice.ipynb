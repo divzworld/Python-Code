{
 "cells": [
  {
   "cell_type": "markdown",
   "id": "bb824467",
   "metadata": {},
   "source": [
    "# Code With Harry"
   ]
  },
  {
   "cell_type": "markdown",
   "id": "98e6be88",
   "metadata": {},
   "source": [
    "# Chapter 01"
   ]
  },
  {
   "cell_type": "code",
   "execution_count": 1,
   "id": "a5a6c682",
   "metadata": {},
   "outputs": [
    {
     "name": "stdout",
     "output_type": "stream",
     "text": [
      " Twinkle, twinkle, little star\n",
      " How I wonder what you are\n",
      " Up above the world so high\n",
      " Like a diamond in the sky\n"
     ]
    }
   ],
   "source": [
    "#01 Write a program to print twinkle twinkle poem\n",
    "print(''' Twinkle, twinkle, little star\n",
    " How I wonder what you are\n",
    " Up above the world so high\n",
    " Like a diamond in the sky''')"
   ]
  },
  {
   "cell_type": "code",
   "execution_count": 2,
   "id": "f04320d4",
   "metadata": {},
   "outputs": [
    {
     "name": "stdout",
     "output_type": "stream",
     "text": [
      "Requirement already satisfied: playsound in c:\\users\\divuy\\anaconda3\\lib\\site-packages (1.3.0)\n"
     ]
    }
   ],
   "source": [
    "#02 Install an external module & use it an perform an operation of your interest\n",
    "# import required module\n",
    "!pip install playsound\n"
   ]
  },
  {
   "cell_type": "code",
   "execution_count": 3,
   "id": "69fd9334",
   "metadata": {},
   "outputs": [
    {
     "ename": "SyntaxError",
     "evalue": "(unicode error) 'unicodeescape' codec can't decode bytes in position 2-3: truncated \\UXXXXXXXX escape (739694033.py, line 3)",
     "output_type": "error",
     "traceback": [
      "\u001b[1;36m  Cell \u001b[1;32mIn[3], line 3\u001b[1;36m\u001b[0m\n\u001b[1;33m    playsound('C:\\Users\\divuy\\Music\\Chaleya(PagalWorld.com.pe).mp3')\u001b[0m\n\u001b[1;37m                                                                   ^\u001b[0m\n\u001b[1;31mSyntaxError\u001b[0m\u001b[1;31m:\u001b[0m (unicode error) 'unicodeescape' codec can't decode bytes in position 2-3: truncated \\UXXXXXXXX escape\n"
     ]
    }
   ],
   "source": [
    "from playsound import playsound\n",
    "# for playing \n",
    "playsound('C:\\Users\\divuy\\Music\\Chaleya(PagalWorld.com.pe).mp3')\n",
    "print('playing sound using  playsound')"
   ]
  },
  {
   "cell_type": "code",
   "execution_count": null,
   "id": "0ac7791a",
   "metadata": {},
   "outputs": [],
   "source": [
    "#03 Write a python program to print the contents of a directory using OS module . Search online for the function which does that.\n",
    "import os\n",
    "print(os.listdir())"
   ]
  },
  {
   "cell_type": "code",
   "execution_count": null,
   "id": "53de68a0",
   "metadata": {},
   "outputs": [],
   "source": [
    "a=3\n",
    "b=5\n",
    "print(\"Sum is : \",a+b)"
   ]
  },
  {
   "cell_type": "code",
   "execution_count": null,
   "id": "70be1cdf",
   "metadata": {},
   "outputs": [],
   "source": [
    "# Chapter 2"
   ]
  },
  {
   "cell_type": "code",
   "execution_count": null,
   "id": "3815c3a6",
   "metadata": {},
   "outputs": [],
   "source": [
    "# wap to add two numbers\n",
    "num1=int(input(\"Enter the first number :\"))\n",
    "num2=int(input(\"Enter the second number :\"))\n",
    "print(\"Addition of num1 & num2 :\",num1+num2)"
   ]
  },
  {
   "cell_type": "code",
   "execution_count": null,
   "id": "96df7e7f",
   "metadata": {},
   "outputs": [],
   "source": [
    "# wap to find remainder when a number is divided by 2.\n",
    "num=int(input(\"Enter the number :\"))\n",
    "print(\"Remainder after divided by 2 for entered number is :\",num%2)"
   ]
  },
  {
   "cell_type": "code",
   "execution_count": null,
   "id": "7e5e79bf",
   "metadata": {},
   "outputs": [],
   "source": [
    "#check the type of the variable assigned using input() function\n",
    "var=input(\"Enter the variable :\")\n",
    "print(type(var))"
   ]
  },
  {
   "cell_type": "code",
   "execution_count": null,
   "id": "3feea1a3",
   "metadata": {},
   "outputs": [],
   "source": [
    "# use comparison operator to find out whether a given variable a is greater then b or not take a=34 and b=80\n",
    "a=34\n",
    "b=80\n",
    "print(type(a))\n",
    "if(a>b):\n",
    "    print(\"a is greater than b\")\n",
    "else:\n",
    "    print(\"b is greater than a\")\n",
    "print(a>b)\n",
    "    \n",
    "#wap to find average of two user entered numbers.\n",
    "num1 = int(input(\"Enter the number :\"))\n",
    "num2 = int(input(\"Enter the number :\"))\n",
    "sum = num1 + num2\n",
    "print(\"Average :\",sum/2)\n",
    "avg = sum / 2\n",
    "print(type(avg))"
   ]
  },
  {
   "cell_type": "code",
   "execution_count": null,
   "id": "de055a18",
   "metadata": {},
   "outputs": [],
   "source": [
    "# wap to calculate square of given number\n",
    "num=int(input(\"Enter the number :\"))\n",
    "print(\"Square of entered number :\",num**2)"
   ]
  },
  {
   "cell_type": "code",
   "execution_count": null,
   "id": "667b5e51",
   "metadata": {},
   "outputs": [],
   "source": [
    "# String reverse\n",
    "str=input(\"Enter String :\")\n",
    "print(str)\n",
    "print(str[::-1])\n",
    "print(str[:-2])"
   ]
  },
  {
   "cell_type": "code",
   "execution_count": null,
   "id": "36005e09",
   "metadata": {},
   "outputs": [],
   "source": [
    "# wap to display a user entered name followed by Good Afternoon using input()\n",
    "name=input(\"Enter Name :\")\n",
    "print(\" Good Afternoon !\",name)"
   ]
  },
  {
   "cell_type": "code",
   "execution_count": null,
   "id": "55fe2a55",
   "metadata": {},
   "outputs": [],
   "source": [
    "#wap to fill in a letter template given below with name and date letter='''Dear <|NAME|> you are selected ! <|DATE|>'''\n",
    "letter=''' Dear <|NAME|>\n",
    "\\t You are Selected !\n",
    " <|DATE|>'''\n",
    "name=input(\"Enter Name :\")\n",
    "date=input(\"\\n Enter Date :\")\n",
    "letter=letter.replace(\"<|NAME|>\",name)\n",
    "letter=letter.replace(\"<|DATE|>\",date)\n",
    "print(letter)"
   ]
  },
  {
   "cell_type": "code",
   "execution_count": null,
   "id": "bce72cae",
   "metadata": {},
   "outputs": [],
   "source": [
    "#wap to detect double spaces in a string\n",
    "str=input(\"Enter String :\")\n",
    "print(str)\n",
    "if str.find(\"  \"):\n",
    "    print(\"Double space detected !\")\n",
    "else:\n",
    "    print(\"Double space not present !\")\n",
    "ds=str.find(\"  \")\n",
    "print(\" index :\",ds)"
   ]
  },
  {
   "cell_type": "code",
   "execution_count": 1,
   "id": "387777e7",
   "metadata": {},
   "outputs": [
    {
     "name": "stdout",
     "output_type": "stream",
     "text": [
      "Enter String :ghh   gg\n",
      "Space detected !\n",
      " index : 3\n"
     ]
    }
   ],
   "source": [
    "#wap to detect double spaces in a string\n",
    "str=input(\"Enter String :\")\n",
    "if \"  \" in str:\n",
    "    print(\"Space detected !\")\n",
    "else:\n",
    "    print(\"Space not detected !\")\n",
    "ds=str.find(\"  \")\n",
    "print(\" index :\",ds)"
   ]
  },
  {
   "cell_type": "code",
   "execution_count": null,
   "id": "758e7fe0",
   "metadata": {},
   "outputs": [],
   "source": [
    "#replace the double spaces with single space \n",
    "str=\"a  b  c d\"\n",
    "print(str)\n",
    "str=str.replace(\"  \",\" \")\n",
    "print(str)"
   ]
  },
  {
   "cell_type": "code",
   "execution_count": 2,
   "id": "6c6301f0",
   "metadata": {},
   "outputs": [
    {
     "name": "stdout",
     "output_type": "stream",
     "text": [
      "Dear Harry ,\n",
      " \tThis Python Course is nice . \n",
      " \t\tThanks !\n"
     ]
    }
   ],
   "source": [
    "''' wap to format the following letter using escape sequence characters\n",
    "letter=\"Dear Harry , This Python Course is nice . Thanks !\"'''\n",
    "letter=\"Dear Harry ,\\n \\tThis Python Course is nice . \\n \\t\\tThanks !\"\n",
    "print(letter)"
   ]
  },
  {
   "cell_type": "code",
   "execution_count": null,
   "id": "fa800e7c",
   "metadata": {},
   "outputs": [],
   "source": [
    "# Check String is palindrome or not\n",
    "str=input(\"Enter String :\")\n",
    "str=str.lower()\n",
    "print(str)\n",
    "#Check palindrome or not\n",
    "str2=str[::-1]\n",
    "if str==str2:\n",
    "    print(\"String is palindrome\")\n",
    "else:\n",
    "    print(\"String is not palindrome\")\n",
    "   "
   ]
  },
  {
   "cell_type": "code",
   "execution_count": null,
   "id": "1c952a60",
   "metadata": {},
   "outputs": [],
   "source": [
    "#Check String is symmetrical(if we fold both parts are same e.g. khokho) or not\n",
    "import sys\n",
    "\n",
    "\n",
    "def test_fun(input_str, start_ind1, end_ind1, start_ind2, end_ind2):\n",
    "    temp_str1 = ''\n",
    "    temp_str2 = ''\n",
    "    for ind,char in enumerate(input_str):\n",
    "        if ind >= start_ind1:\n",
    "            temp_str1 +=  char\n",
    "        if ind == end_ind1:\n",
    "            break\n",
    "    return temp_str1\n",
    "    print(temp_str1)\n",
    "    for ind,char in enumerate(input_str):\n",
    "        if ind >= start_ind2:\n",
    "            temp_str2 +=  char\n",
    "        if ind == end_ind2:\n",
    "            break\n",
    "    return temp_str2\n",
    "    print(temp_str2)\n",
    "    \n",
    "    if temp_str1 == temp_str2:\n",
    "        print( \" Symmetric string !\")\n",
    "    else:\n",
    "        print( \" Asymmetric string !\")\n",
    "    \n",
    "\n",
    "\n",
    "def for_even(input_str):\n",
    "    # for first part of input_str\n",
    "    end_ind1 = (len(input_str)/2) - 1\n",
    "    start_ind1 = 0\n",
    "    \n",
    "    # for second part of input_str\n",
    "    start_ind2 = len(input_str)/2\n",
    "    end_ind2 =  len(input_str) - 1\n",
    "    test_fun(input_str, start_ind1, end_ind1, start_ind2, end_ind2)\n",
    "\n",
    "    \n",
    "def for_odd(input_str):\n",
    "    # for first part of input_str\n",
    "    end_ind1 = (len(input_str)//2) - 1\n",
    "    start_ind1 = 0\n",
    "    \n",
    "    # for second part of input_str\n",
    "    start_ind2 = len(input_str)//2 + 2\n",
    "    end_ind2 = -1\n",
    "    test_fun(input_str, start_ind1, end_ind1, start_ind2, end_ind2)    \n",
    "    \n",
    "    \n",
    "\n",
    "def main():\n",
    "    input_str = input(\"Enter String :\")\n",
    "    input_str = input_str.lower()\n",
    "    input_len = len(input_str)\n",
    "    print(input_len)\n",
    "    if input_len % 2 == 0:\n",
    "        print(\"Even !\")\n",
    "        for_even(input_str)\n",
    "    else:\n",
    "        print(\"Odd !\")\n",
    "        for_odd(input_str)\n",
    "if __name__ == \"__main__\":  \n",
    "    main()"
   ]
  },
  {
   "cell_type": "code",
   "execution_count": null,
   "id": "a9776c58",
   "metadata": {},
   "outputs": [],
   "source": []
  },
  {
   "cell_type": "code",
   "execution_count": null,
   "id": "d794a1da",
   "metadata": {},
   "outputs": [],
   "source": []
  },
  {
   "cell_type": "markdown",
   "id": "95626126",
   "metadata": {},
   "source": [
    "# Chapter 04 Lists and Tuples"
   ]
  },
  {
   "cell_type": "code",
   "execution_count": null,
   "id": "141b0a60",
   "metadata": {},
   "outputs": [],
   "source": [
    "# 01. WAP to store seven fruits in a list entered by the user\n",
    "list = []\n",
    "print(type(list))\n",
    "i=0\n",
    "print(type(i))\n",
    "while i<7 :\n",
    "    list.append(input( \" Enter Fruit : \"))\n",
    "    i+=1\n",
    "\n",
    "print(list)"
   ]
  },
  {
   "cell_type": "code",
   "execution_count": 3,
   "id": "aeefba91",
   "metadata": {},
   "outputs": [
    {
     "name": "stdout",
     "output_type": "stream",
     "text": [
      " Enter Marks of subject :76\n",
      " Enter Marks of subject :87\n",
      " Enter Marks of subject :87\n",
      " Enter Marks of subject :67\n",
      " Enter Marks of subject :45\n",
      " Enter Marks of subject :98\n",
      "[45, 67, 76, 87, 87, 98]\n"
     ]
    }
   ],
   "source": [
    "# 02. WAP to accept marks of 6 students and display them in a sorted manner\n",
    "marks=[]\n",
    "i=0\n",
    "while i<6 :\n",
    "    marks.append(int(input(\" Enter Marks of subject :\")))\n",
    "    i+=1\n",
    "marks.sort()   \n",
    "print(marks)"
   ]
  },
  {
   "cell_type": "code",
   "execution_count": null,
   "id": "680df99d",
   "metadata": {},
   "outputs": [],
   "source": [
    "# 03. Check that a tuple cannot be changed in python\n",
    "tup=(10,20,30,'Asmita')\n",
    "print(type(tup))\n",
    "try :\n",
    "    tup[2]=76\n",
    "    print(tup)\n",
    "except Exception as e :\n",
    "    print(\" Tuples are immutable ! We can not change value of it \" , e)"
   ]
  },
  {
   "cell_type": "code",
   "execution_count": 4,
   "id": "b6edbd8c",
   "metadata": {},
   "outputs": [
    {
     "name": "stdout",
     "output_type": "stream",
     "text": [
      "[10, 20, 30, 40, 40, 50, 60, 70]\n",
      "100\n",
      "220\n",
      "100\n",
      "220\n",
      "50 70 90 110\n"
     ]
    }
   ],
   "source": [
    "# 04. WAP to sum a list with 4 numbers.\n",
    "list1=[10,20,30,40]\n",
    "list2=[40,50,60,70]\n",
    "print(list1+list2)\n",
    "\n",
    "#sum of a list\n",
    "print(list1[0]+list1[1]+list1[2]+list1[3])\n",
    "print(list2[0]+list2[1]+list2[2]+list2[3])\n",
    "\n",
    "print(sum(list1))\n",
    "print(sum(list2))\n",
    "\n",
    "print(list1[0]+list2[0],list1[1]+list2[1],list1[2]+list2[2],list1[3]+list2[3])"
   ]
  },
  {
   "cell_type": "code",
   "execution_count": 7,
   "id": "ffb053d8",
   "metadata": {},
   "outputs": [
    {
     "name": "stdout",
     "output_type": "stream",
     "text": [
      "3\n",
      "1\n",
      "3\n",
      "2\n",
      "1\n"
     ]
    }
   ],
   "source": [
    "# 05. WAP to count the number of zeros in the following tuple\n",
    "tup=(10,2,3,0,0,45,67,70,67,56,0)\n",
    "print(tup.count(0))\n",
    "print(tup.index(2)) # searching value 2 is at which index\n",
    "\n",
    "tup2=(7,0,8,0,0,9)\n",
    "print(tup2.count(0))\n",
    "print(tup2.index(8)) # searching value 8 is at which index\n",
    "print(tup2.index(0))"
   ]
  },
  {
   "cell_type": "markdown",
   "id": "283daaf1",
   "metadata": {},
   "source": [
    "# Random interview question"
   ]
  },
  {
   "cell_type": "code",
   "execution_count": null,
   "id": "d3d966de",
   "metadata": {},
   "outputs": [],
   "source": [
    "#print every number between 1 and 100 as follows:\n",
    "# * For every multiple of 3 print \"Three\".\n",
    "# * For every multiple of 5 print \"Five\".\n",
    "# * And for every multiple of both 3 and 5 print \"ThreeFive\"\n",
    "\n",
    "i=1\n",
    "\n",
    "while i<=100 :\n",
    "    # For every multiple of both 3 and 5 print \"ThreeFive\"\n",
    "    if i % 3 == 0 and i % 5 == 0 :\n",
    "        print(\" ThreeFive \")\n",
    "        \n",
    "    #  For every multiple of 3 print \"Three\" \n",
    "    elif i % 3 == 0 :\n",
    "        print( \" Three \")\n",
    "        \n",
    "    # For every multiple of 5 print \"Five\"\n",
    "    elif i % 5 == 0 :\n",
    "        print( \" Five \")\n",
    "        \n",
    "    else:\n",
    "        print( i )\n",
    "    i += 1"
   ]
  },
  {
   "cell_type": "code",
   "execution_count": null,
   "id": "49bd0fc8",
   "metadata": {},
   "outputs": [],
   "source": [
    "# Determine whether a positive integer number is colorful or not.\n",
    "#263 is a colorful number because [2, 6, 3, 2x6, 6x3, 2x6x3] are all different; whereas 236 is not colorful, because [2, 3, 6, 2x3, 3x6, 2x3x6] have 6 twice.\n",
    "#So take all consecutive subsets of digits, take their product and ensure all the products are different.\n"
   ]
  },
  {
   "cell_type": "code",
   "execution_count": null,
   "id": "af7d254e",
   "metadata": {},
   "outputs": [],
   "source": []
  },
  {
   "cell_type": "code",
   "execution_count": null,
   "id": "f41b42cf",
   "metadata": {},
   "outputs": [],
   "source": []
  },
  {
   "cell_type": "markdown",
   "id": "c267c44d",
   "metadata": {},
   "source": [
    "# Chapter 05 - Dictionary and Sets\n"
   ]
  },
  {
   "cell_type": "code",
   "execution_count": 8,
   "id": "3a05cdb7",
   "metadata": {},
   "outputs": [
    {
     "name": "stdout",
     "output_type": "stream",
     "text": [
      "{'Sapna': 'Dreams', 'Khamoshi': 'silence', 'Ghussa': 'Anger', 'Sundar': 'Beautiful'}\n",
      " Options are : dict_keys(['Sapna', 'Khamoshi', 'Ghussa', 'Sundar'])\n",
      "Enter Hindi Word :Sundar\n",
      "English meaning of entered hindi word : Beautiful\n"
     ]
    }
   ],
   "source": [
    "# 01 WAP to create a dictionary of Hindi words with values as their english translation . Provide user with an option to look it up !\n",
    "dict1={\n",
    "    \"Sapna\" : \"Dreams\",\n",
    "    \"Khamoshi\" : \"silence\",\n",
    "    \"Ghussa\" : \"Anger\",\n",
    "    \"Sundar\" : \"Beautiful\"\n",
    "}\n",
    "print(dict1)\n",
    "print(\" Options are :\", dict1.keys())\n",
    "a = input ( \"Enter Hindi Word :\")\n",
    "try :\n",
    "    print(\"English meaning of entered hindi word :\",dict1[a])\n",
    "except Exception as e :\n",
    "    print(\"Sorry your entered hindi word is not available !\",e)"
   ]
  },
  {
   "cell_type": "code",
   "execution_count": 9,
   "id": "b5744a35",
   "metadata": {},
   "outputs": [
    {
     "name": "stdout",
     "output_type": "stream",
     "text": [
      "{'Sapna': 'Dreams', 'Khamoshi': 'silence', 'Ghussa': 'Anger', 'Sundar': 'Beautiful'}\n",
      " Options are : dict_keys(['Sapna', 'Khamoshi', 'Ghussa', 'Sundar'])\n",
      "Enter Hindi Word :Lafj\n",
      "English meaning of entered hindi word : None\n"
     ]
    }
   ],
   "source": [
    "# 01 WAP to create a dictionary of Hindi words with values as their english translation . Provide user with an option to look it up !\n",
    "dict1={\n",
    "    \"Sapna\" : \"Dreams\",\n",
    "    \"Khamoshi\" : \"silence\",\n",
    "    \"Ghussa\" : \"Anger\",\n",
    "    \"Sundar\" : \"Beautiful\"\n",
    "}\n",
    "print(dict1)\n",
    "print(\" Options are :\", dict1.keys())\n",
    "a = input ( \"Enter Hindi Word :\")\n",
    "print(\"English meaning of entered hindi word :\",dict1.get(a)) # Not through any error"
   ]
  },
  {
   "cell_type": "code",
   "execution_count": 10,
   "id": "7ce69af0",
   "metadata": {},
   "outputs": [
    {
     "name": "stdout",
     "output_type": "stream",
     "text": [
      "Enter number :5\n",
      "Enter number :5\n",
      "Enter number :5\n",
      "Enter number :5\n",
      "Enter number :5\n",
      "Enter number :5\n",
      "Enter number :5\n",
      "Enter number :5\n",
      "{'5'}\n"
     ]
    }
   ],
   "source": [
    "# 02 WAP to input eight numbers from the user and display all the unique numbers (once)\n",
    "unique_set = set()\n",
    "i=0\n",
    "while i<8 :\n",
    "    unique_set.add(input(\"Enter number :\"))\n",
    "    i += 1\n",
    "print(unique_set)    "
   ]
  },
  {
   "cell_type": "code",
   "execution_count": 11,
   "id": "535af693",
   "metadata": {},
   "outputs": [
    {
     "name": "stdout",
     "output_type": "stream",
     "text": [
      "{18, '18'}\n",
      "<class 'int'>\n",
      "<class 'str'>\n"
     ]
    }
   ],
   "source": [
    "# 03 Can we have a set with 18(int) and \"18\"(str) as a value in it\n",
    "sett=set()\n",
    "sett.add(18)\n",
    "sett.add(\"18\")\n",
    "print(sett)\n",
    "print(type(list(sett)[0]))\n",
    "print(type(list(sett)[1]))"
   ]
  },
  {
   "cell_type": "code",
   "execution_count": 12,
   "id": "2ceea988",
   "metadata": {},
   "outputs": [
    {
     "name": "stdout",
     "output_type": "stream",
     "text": [
      "{20, '20'}\n",
      "<class 'str'>\n"
     ]
    }
   ],
   "source": [
    "# 04 what will be the length of following set s\n",
    "s=set()\n",
    "s.add(20)\n",
    "s.add(20.0)\n",
    "s.add(\"20\")\n",
    "print(s)\n",
    "len(s)\n",
    "print(type(list(sett)[1]))"
   ]
  },
  {
   "cell_type": "code",
   "execution_count": 13,
   "id": "5ecbd6b5",
   "metadata": {},
   "outputs": [
    {
     "data": {
      "text/plain": [
       "float"
      ]
     },
     "execution_count": 13,
     "metadata": {},
     "output_type": "execute_result"
    }
   ],
   "source": [
    "a=20.0\n",
    "type(a)"
   ]
  },
  {
   "cell_type": "code",
   "execution_count": 17,
   "id": "fda0b3c8",
   "metadata": {},
   "outputs": [
    {
     "name": "stdout",
     "output_type": "stream",
     "text": [
      "<class 'dict'>\n"
     ]
    },
    {
     "data": {
      "text/plain": [
       "set"
      ]
     },
     "execution_count": 17,
     "metadata": {},
     "output_type": "execute_result"
    }
   ],
   "source": [
    "# 05 check type of s={}\n",
    "s={}\n",
    "print(type(s))\n",
    "s1 = set()\n",
    "type(s1)"
   ]
  },
  {
   "cell_type": "code",
   "execution_count": 18,
   "id": "3d0fe0d8",
   "metadata": {},
   "outputs": [
    {
     "name": "stdout",
     "output_type": "stream",
     "text": [
      "Enter name :Divya\n",
      "Enter favourite language :Hindi\n",
      "Enter name :Simmy\n",
      "Enter favourite language :Gujarati\n",
      "Enter name :Shree\n",
      "Enter favourite language :Marathwada\n",
      "Enter name :Praneet\n",
      "Enter favourite language :Telugu\n",
      "{'Divya': 'Hindi', 'Simmy': 'Gujarati', 'Shree': 'Marathwada', 'Praneet': 'Telugu'}\n"
     ]
    }
   ],
   "source": [
    "# 06 Create an empty dictionary. Allow 4 friends to enter their favourite language as values and use keys as their names. assume that the names are unique.\n",
    "fav_lan={}\n",
    "i=0\n",
    "while i<4 :\n",
    "    frd={input(\"Enter name :\") : input(\"Enter favourite language :\")}\n",
    "    fav_lan.update(frd)\n",
    "    i += 1\n",
    "print(fav_lan)"
   ]
  },
  {
   "cell_type": "code",
   "execution_count": null,
   "id": "dabbe89c",
   "metadata": {},
   "outputs": [],
   "source": [
    "fav_lan={}\n",
    "a=input(\"\\n Enter Your Faourite language Divya :\")\n",
    "b=input(\"\\n Enter Your Faourite language Onkar :\")\n",
    "c=input(\"\\n Enter Your Faourite language Sakshi :\")\n",
    "d=input(\"\\n Enter Your Faourite language Pooja :\")\n",
    "fav_lan[\"Divya\"]=a\n",
    "fav_lan[\"Onkar\"]=b\n",
    "fav_lan[\"Sakshi\"]=c\n",
    "fav_lan[\"Pooja\"]=d\n",
    "print(fav_lan)"
   ]
  },
  {
   "cell_type": "code",
   "execution_count": 19,
   "id": "885228e5",
   "metadata": {},
   "outputs": [
    {
     "name": "stdout",
     "output_type": "stream",
     "text": [
      "{'sanket': '435', 'Sanket': '435'}\n"
     ]
    }
   ],
   "source": [
    "my_dict={\n",
    "    \"sanket\" : \"435\",\n",
    "    \"Sanket\" : \"435\"\n",
    "}\n",
    "print(my_dict)    "
   ]
  },
  {
   "cell_type": "code",
   "execution_count": 20,
   "id": "d17ea8b3",
   "metadata": {},
   "outputs": [
    {
     "name": "stdout",
     "output_type": "stream",
     "text": [
      "\n",
      " Enter Your Faourite language Divya :Marathi\n",
      "\n",
      " Enter Your Faourite language Divya :Hindi\n",
      "\n",
      " Enter Your Faourite language Sakshi :Spanish\n",
      "\n",
      " Enter Your Faourite language Pooja :KAnnada\n",
      "{'Divya': 'Hindi', 'Sakshi': 'Spanish', 'Pooja': 'KAnnada'}\n"
     ]
    }
   ],
   "source": [
    "# What happen if names (keys) are same\n",
    "fav_lan={}\n",
    "a=input(\"\\n Enter Your Faourite language Divya :\")\n",
    "b=input(\"\\n Enter Your Faourite language Divya :\")\n",
    "c=input(\"\\n Enter Your Faourite language Sakshi :\")\n",
    "d=input(\"\\n Enter Your Faourite language Pooja :\")\n",
    "fav_lan[\"Divya\"]=a\n",
    "fav_lan[\"Divya\"]=b\n",
    "fav_lan[\"Sakshi\"]=c\n",
    "fav_lan[\"Pooja\"]=d\n",
    "print(fav_lan)"
   ]
  },
  {
   "cell_type": "code",
   "execution_count": 21,
   "id": "71d90255",
   "metadata": {},
   "outputs": [
    {
     "name": "stdout",
     "output_type": "stream",
     "text": [
      "\n",
      " Enter Your Faourite language Divya :e\n",
      "\n",
      " Enter Your Faourite language Onkar :e\n",
      "\n",
      " Enter Your Faourite language Sakshi :e\n",
      "\n",
      " Enter Your Faourite language Pooja :e\n",
      "{'Divya': 'e', 'Onkar': 'e', 'Sakshi': 'e', 'Pooja': 'e'}\n"
     ]
    }
   ],
   "source": [
    "# What if values are same\n",
    "fav_lan={}\n",
    "a=input(\"\\n Enter Your Faourite language Divya :\")\n",
    "b=input(\"\\n Enter Your Faourite language Onkar :\")\n",
    "c=input(\"\\n Enter Your Faourite language Sakshi :\")\n",
    "d=input(\"\\n Enter Your Faourite language Pooja :\")\n",
    "fav_lan[\"Divya\"]=a\n",
    "fav_lan[\"Onkar\"]=b\n",
    "fav_lan[\"Sakshi\"]=c\n",
    "fav_lan[\"Pooja\"]=d\n",
    "print(fav_lan)"
   ]
  },
  {
   "cell_type": "code",
   "execution_count": null,
   "id": "e2774129",
   "metadata": {},
   "outputs": [],
   "source": [
    "# Can you change the value inside a list which is contained inside in set s\n",
    "# s={ 8, 7,12 , \"Harry\" , [1,2]}\n",
    "Ans - - > Set is hashable so we can't change the value of it "
   ]
  },
  {
   "cell_type": "markdown",
   "id": "7293fd16",
   "metadata": {},
   "source": [
    "# Chapter 06 Conditional Expressions"
   ]
  },
  {
   "cell_type": "code",
   "execution_count": null,
   "id": "56c71a95",
   "metadata": {},
   "outputs": [],
   "source": [
    "# 01 wap TO find greatest user entered number from 4 numbers\n",
    "\n",
    "i = 0\n",
    "a = 0\n",
    "b = 0 \n",
    "c = 0 \n",
    "d = 0\n",
    "while i<4 :\n",
    "    temp = input(\"Enter the number :\")\n",
    "    if a == 0 :\n",
    "        a = temp\n",
    "    elif b == 0 :\n",
    "        b = temp\n",
    "    elif c == 0 :\n",
    "        c = temp\n",
    "    else :\n",
    "        d = temp\n",
    "    i += 1\n",
    "    \n",
    "if a > b and a > c and a > d :\n",
    "    print ( a , \" IS a largest number \")\n",
    "elif b > a and b > c and b > d :\n",
    "    print ( b , \" Is a largest number \")\n",
    "elif c > a and c > b and c > d :\n",
    "    print( c , \" Is a largest number \")\n",
    "elif d > a and d > b and d > c :\n",
    "    print ( d , \" Is a largest number \")\n",
    "else :\n",
    "    print (\" All are equal\")\n",
    "    \n",
    "    "
   ]
  },
  {
   "cell_type": "code",
   "execution_count": null,
   "id": "dd8e110d",
   "metadata": {},
   "outputs": [],
   "source": [
    "num1 = int(input(\"\\nEnter Number 1 :\"))\n",
    "num2 = int(input(\"\\nEnter Number 2 :\"))\n",
    "num3 = int(input(\"\\nEnter Number 3 :\"))\n",
    "num4 = int(input(\"\\nEnter Number 4 :\"))\n",
    "\n",
    "if num1 > num2 :\n",
    "    f1 = num1\n",
    "else :\n",
    "    f1 = num2\n",
    "    \n",
    "if num3 > num4 :\n",
    "    f2 = num3\n",
    "else:\n",
    "    f2 = num4\n",
    "    \n",
    "if f1 > f2 :\n",
    "    print(str(f1), \" Is greatest number \")\n",
    "else :\n",
    "    print(str(f2), \" Is greatest number \")"
   ]
  },
  {
   "cell_type": "code",
   "execution_count": null,
   "id": "e7f5c343",
   "metadata": {},
   "outputs": [],
   "source": [
    "a = None\n",
    "type(a)\n",
    "a=1\n",
    "type(a)"
   ]
  },
  {
   "cell_type": "code",
   "execution_count": 23,
   "id": "ffa864eb",
   "metadata": {},
   "outputs": [
    {
     "name": "stdout",
     "output_type": "stream",
     "text": [
      "Enter the marks of subject 1 :5555\n",
      " Please enter valid marks in between 0 to 100 \n",
      " Fail in subject 1\n",
      "Enter the marks of subject 1 :56\n",
      " Pass in subject 1\n",
      "Enter the marks of subject 2 :5444\n",
      " Please enter valid marks in between 0 to 100 \n",
      " Fail in subject 2\n",
      "Enter the marks of subject 2 :56\n",
      " Pass in subject 2\n",
      "Enter the marks of subject 3 :78\n",
      " Pass in subject 3\n",
      " You are pass ! \n"
     ]
    }
   ],
   "source": [
    "# 02 WAP to find out whether the student is pass or fail , in total 40 % marks needed and atleast 33 % require in each subject\n",
    "i = 1\n",
    "sub1 = 0\n",
    "sub2 = 0\n",
    "sub3 = 0\n",
    "count1=0\n",
    "count2=0\n",
    "while i < 4 :\n",
    "    temp = int(input(f\"Enter the marks of subject {i} :\"))\n",
    "    if temp < 0 or temp > 100 :\n",
    "        i -= 1\n",
    "        temp = 0\n",
    "        print(\" Please enter valid marks in between 0 to 100 \")\n",
    "    \n",
    "    if sub1 == 0 :\n",
    "        sub1 = temp\n",
    "        if sub1 > 33 :\n",
    "            print(\" Pass in subject 1\")\n",
    "            count1 += 1\n",
    "        else :\n",
    "            print(\" Fail in subject 1\")\n",
    "            count2 += 1\n",
    "    elif sub2 == 0 :\n",
    "        sub2 = temp \n",
    "        if sub2 > 33 :\n",
    "            print(\" Pass in subject 2\")\n",
    "            count1 += 1\n",
    "        else :\n",
    "            print(\" Fail in subject 2\")\n",
    "            count2 += 1\n",
    "    else :\n",
    "        sub3 = temp\n",
    "        if sub3 > 33 :\n",
    "            print(\" Pass in subject 3\")\n",
    "            count1 += 1\n",
    "        else :\n",
    "            print(\" Fail in subject 3\")\n",
    "            count2 += 1\n",
    "    i += 1\n",
    "sum = sub1 + sub2 + sub3\n",
    "if sum > 40 and count1 == 3 :\n",
    "    print(\" You are pass ! \")\n",
    "elif sum > 40 and count1 == 2 :\n",
    "    print(\" ATKT \")\n",
    "elif count2== 3 :\n",
    "    print(\" Fail & Year down !\")\n",
    "else:\n",
    "    print(\" Fail !\")"
   ]
  },
  {
   "cell_type": "raw",
   "id": "4f6e8044",
   "metadata": {},
   "source": [
    "# 03 A spam comment is defined as a text containing following passwords :\n",
    "# \" make a lot of money \" , \" buy now \" , \" subscribe this \" , \" Click this \" WAP to detect these spams\n",
    "\n",
    "text = input(\" Enter the text : \")\n",
    "text=text.lower()\n",
    "spam = False \n",
    "\n",
    "if \"make a lot of money\" in text :\n",
    "    spam = True\n",
    "elif \"buy now\" in text :\n",
    "    spam = True\n",
    "elif \"subscribe this\" in text :\n",
    "    spam = True\n",
    "elif \"click this\" in text :\n",
    "    spam = True\n",
    "else :\n",
    "    spam = False\n",
    "\n",
    "if(spam):\n",
    "    print(\"Stay alert ! Spam detected !\")\n",
    "else :\n",
    "     print(\" Relax there is no spam ! You are safe ! \")\n",
    "    "
   ]
  },
  {
   "cell_type": "code",
   "execution_count": 25,
   "id": "513adf87",
   "metadata": {},
   "outputs": [
    {
     "name": "stdout",
     "output_type": "stream",
     "text": [
      "Enter the username :Divya\n",
      " Username contains less than 10 characters that is  5\n"
     ]
    }
   ],
   "source": [
    " # 04 WAP to find whether a given username contains less than 10 characters or not \n",
    "username = input( \"Enter the username :\")\n",
    "count=len(username)\n",
    "if count < 10 :\n",
    "    print(\" Username contains less than 10 characters that is \", count)\n",
    "elif count == 10 :\n",
    "    print(\" Username contains exact 10 characters !\")\n",
    "else :\n",
    "    print( \" Username contains more than 10 characters that is \", count)"
   ]
  },
  {
   "cell_type": "code",
   "execution_count": null,
   "id": "6e2bc41b",
   "metadata": {},
   "outputs": [],
   "source": [
    "# 05 WAP which finds out whether a given name is present in a list or not\n",
    "name_list = ['Divya' , 'Tanuja' , 'Sai' , 'Pankaj' , 'Trupti' , 'Sonali']\n",
    "print(type(name_list))\n",
    "name = input (\" Enter the name :\")\n",
    "name = name.capitalize()\n",
    "if name in name_list :\n",
    "    print(f\"Entered name {name} is present in a list \")\n",
    "else :\n",
    "    print(f\"Entered name {name} is not present in a list\")"
   ]
  },
  {
   "cell_type": "code",
   "execution_count": null,
   "id": "0a882099",
   "metadata": {},
   "outputs": [],
   "source": [
    "# 06 WAP to calculate the grade of a student from his marks from the following scheme :\n",
    "# 90-100 -> Ex\n",
    "# 80-90 - > A\n",
    "# 70-80 -> B\n",
    "# 60-70 - > C\n",
    "# 50-60 -> D\n",
    "# <50 - > F\n",
    "marks = int(input(\"Enter the marks in between 0 to 100 :\"))\n",
    "if marks < 0 or marks > 100 :\n",
    "    print (\" Invalid marks !\")\n",
    "elif marks > 90 and marks <= 100 :\n",
    "    grade = \"Excellent !\"\n",
    "elif marks > 80 and marks <= 90 :\n",
    "    grade = \"A\"\n",
    "elif marks > 70 and marks <= 80 :\n",
    "    grade = \"B\"\n",
    "elif marks > 60 and marks <= 70 :\n",
    "    grade = \"C\"\n",
    "elif marks >= 50 and marks <= 60 :\n",
    "    grade = \"D\"\n",
    "else :\n",
    "    grade = \"F\"\n",
    "print(\" Your grade is :\", grade)"
   ]
  },
  {
   "cell_type": "code",
   "execution_count": null,
   "id": "5cab9469",
   "metadata": {},
   "outputs": [],
   "source": [
    "# 07 WAP to find out whether a given post is talking about \" harry \" or not ?\n",
    "post = input (\"Enter the text :\")\n",
    "post = post.lower()\n",
    "if \"harry\" in post :\n",
    "    print ( \" Post is talking about Harry !\")\n",
    "else :\n",
    "    print ( \" Post is not talking about Harry !\")"
   ]
  },
  {
   "cell_type": "markdown",
   "id": "692fc900",
   "metadata": {},
   "source": [
    " # Chapter 07 Conditional Expressions"
   ]
  },
  {
   "cell_type": "code",
   "execution_count": 26,
   "id": "1f245016",
   "metadata": {},
   "outputs": [
    {
     "name": "stdout",
     "output_type": "stream",
     "text": [
      " Watermelon \n",
      " Grapes \n",
      " Apple \n",
      " Banana \n",
      " Kiwi \n"
     ]
    }
   ],
   "source": [
    "# using while print elements from the list\n",
    "\n",
    "fruits = [' Watermelon ' , ' Grapes ' , ' Apple ' , ' Banana ' , ' Kiwi ']\n",
    "i = 0\n",
    "while i < len(fruits) :\n",
    "    print (fruits[i])\n",
    "    i += 1\n",
    "    "
   ]
  },
  {
   "cell_type": "code",
   "execution_count": null,
   "id": "f539c5c4",
   "metadata": {},
   "outputs": [],
   "source": [
    "\n",
    "fruits = [' Watermelon ' , ' Grapes ' , ' Apple ' , ' Banana ' , ' Kiwi ']\n",
    "for i in fruits :\n",
    "    print(i)"
   ]
  },
  {
   "cell_type": "code",
   "execution_count": 27,
   "id": "cd8b2b06",
   "metadata": {},
   "outputs": [
    {
     "name": "stdout",
     "output_type": "stream",
     "text": [
      "1\n",
      "3\n",
      "5\n",
      "7\n"
     ]
    }
   ],
   "source": [
    "for i in range(1,8,2) :\n",
    "    print(i)"
   ]
  },
  {
   "cell_type": "code",
   "execution_count": null,
   "id": "e8ff5f81",
   "metadata": {},
   "outputs": [],
   "source": [
    "# 01 wap to print multiplication table of a given number using for loop\n",
    "\n",
    "num = int(input(\" Enter the number : \"))\n",
    "for num in range (num , num*10+num , num) :\n",
    "    print( num )"
   ]
  },
  {
   "cell_type": "code",
   "execution_count": null,
   "id": "e2004405",
   "metadata": {},
   "outputs": [],
   "source": [
    "\n",
    "num = int(input(\" Enter the number : \"))\n",
    "for i in range (1 , 11) :\n",
    "    print( str(num)+\" X \"+ str(i)+\" = \"+ str(num*i) )\n",
    "    print(f\" {num} X {i} = {num*i}\")"
   ]
  },
  {
   "cell_type": "code",
   "execution_count": 28,
   "id": "6bf57029",
   "metadata": {},
   "outputs": [
    {
     "name": "stdout",
     "output_type": "stream",
     "text": [
      "Hello Sadhana !\n",
      "Hello Sushma  !\n",
      "Hello Sakshi  !\n"
     ]
    }
   ],
   "source": [
    "# 02 wap to greet all the person names stored in a list l1 and which starts with s\n",
    "l1 = ['Sadhana' , 'Sushma ' , 'Sakshi ' , ' Pranali' , ' Nakukl ' ]\n",
    "for name in l1 :\n",
    "    if name.startswith('S') :\n",
    "        print(f\"Hello {name} !\")\n",
    "    else:\n",
    "        continue\n",
    "        "
   ]
  },
  {
   "cell_type": "code",
   "execution_count": null,
   "id": "8b01e950",
   "metadata": {},
   "outputs": [],
   "source": [
    "# 03 Attempt problem 1 using while loop\n",
    "\n",
    "num = int( input( \" Enter the number : \"))\n",
    "i=1\n",
    "while i<=10 :\n",
    "    print(f\"{num} X {i} = {num*i}\")\n",
    "    i += 1"
   ]
  },
  {
   "cell_type": "code",
   "execution_count": null,
   "id": "417a3b97",
   "metadata": {},
   "outputs": [],
   "source": [
    "# 04 WAP to find whether a given number is prime or not\n",
    "num = int(input(\" Enter the number : \"))\n",
    "prime = True\n",
    "\n",
    "for i in range(2,num) :\n",
    "    if num % i == 0 :\n",
    "        prime = False\n",
    "        break\n",
    "        \n",
    "if prime :\n",
    "    print ( \" Given number is prime number ! \")\n",
    "else :\n",
    "    print ( \" Given number is not prime number ! \")"
   ]
  },
  {
   "cell_type": "code",
   "execution_count": 29,
   "id": "2f3e0ac7",
   "metadata": {},
   "outputs": [
    {
     "name": "stdout",
     "output_type": "stream",
     "text": [
      "<class 'float'>\n",
      "6\n"
     ]
    }
   ],
   "source": [
    "num= 5.6\n",
    "print(type(num))\n",
    "num=round(5.6)\n",
    "print(num)"
   ]
  },
  {
   "cell_type": "code",
   "execution_count": null,
   "id": "f3dd8126",
   "metadata": {},
   "outputs": [],
   "source": [
    "# 05 WAP to find the sum of first n natural numbers using while loop\n",
    "\n",
    "num = int ( input ( \" Enter the number : \"))\n",
    "i = 1\n",
    "sum = 0\n",
    "while i <= num :\n",
    "    sum = i + sum\n",
    "    i += 1\n",
    "print( f\" The sum of first {num} natural numbers is : \", sum)"
   ]
  },
  {
   "cell_type": "code",
   "execution_count": null,
   "id": "3271d2a2",
   "metadata": {},
   "outputs": [],
   "source": [
    "# 06 WAP to calculate the factorial of a given number using for loop\n",
    "\n",
    "num = int ( input ( \" Enter the number : \"))\n",
    "fact = 1\n",
    "\n",
    "for i in range ( 1, num+1) :\n",
    "    fact = fact * i\n",
    "    i += 1\n",
    "    \n",
    "print ( f\" The factorial of {num} : \" , fact )"
   ]
  },
  {
   "cell_type": "code",
   "execution_count": null,
   "id": "5604b8bf",
   "metadata": {},
   "outputs": [],
   "source": [
    "num = int ( input ( \"Enter the number : \"))\n",
    "fact = 1\n",
    "i = num\n",
    "\n",
    "while i > 0 :\n",
    "    fact = fact * i\n",
    "    i -= 1\n",
    "\n",
    "print ( f\"The factorial of {num} : \" , fact )"
   ]
  },
  {
   "cell_type": "code",
   "execution_count": null,
   "id": "7c86218d",
   "metadata": {},
   "outputs": [],
   "source": [
    "# WAP to print the following star pattern\n",
    "#     *\n",
    "#   * * *\n",
    "#  * * * * *  for n = 3\n",
    "\n",
    "n = 3\n",
    "\n",
    "for i in range ( 3 ) :\n",
    "    print (\" \" * (n-i-1) , end = \" \")\n",
    "    print (\" * \"* (2*i+1) , end =\" \")\n",
    "    print (\" \" * (n-i-1))"
   ]
  },
  {
   "cell_type": "code",
   "execution_count": null,
   "id": "c64f4913",
   "metadata": {},
   "outputs": [],
   "source": [
    "# WAP to print the following star pattern\n",
    "# *\n",
    "# * * \n",
    "# * * *   for n = 3\n",
    "\n",
    "n = 3\n",
    "\n",
    "for i in range ( 3 ) :\n",
    "    print ( \" * \" * ( i + 1 ))"
   ]
  },
  {
   "cell_type": "code",
   "execution_count": null,
   "id": "b86205cb",
   "metadata": {},
   "outputs": [],
   "source": [
    "# WAP to print the following star pattern\n",
    "# * * *\n",
    "# *   *\n",
    "# * * *   for n = 3\n",
    "\n",
    "n = 3\n",
    "for i in range ( 3 ) :\n",
    "    if i == 1:\n",
    "        print( )\n",
    "    print ( \" * \" * n end = \"\")\n",
    "    "
   ]
  },
  {
   "cell_type": "code",
   "execution_count": null,
   "id": "7f2df583",
   "metadata": {},
   "outputs": [],
   "source": [
    "# WAP to print multiplication table of n using for loop in reversed order\n",
    "\n",
    "num = int( input(\" Enter the number : \"))\n",
    "for i in range ( 10 , 0 , -1 ) :\n",
    "    print ( f\" {num} X {i} = {num*i}\")"
   ]
  },
  {
   "cell_type": "code",
   "execution_count": null,
   "id": "4c48b63f",
   "metadata": {},
   "outputs": [],
   "source": [
    "num = int( input(\" Enter the number : \"))\n",
    "List = []\n",
    "j = 0\n",
    "for i in range ( 1 , 11 ) :\n",
    "    List.insert(j,num*i)\n",
    "    j += 1\n",
    "    \n",
    "print(List[:-1])\n",
    "print(List[::-1])\n"
   ]
  },
  {
   "cell_type": "markdown",
   "id": "ce0eb0fe",
   "metadata": {},
   "source": [
    "\n",
    "# Chapter 08 Functions and Recursions\n",
    "\n"
   ]
  },
  {
   "cell_type": "code",
   "execution_count": null,
   "id": "745cbcf2",
   "metadata": {},
   "outputs": [],
   "source": [
    "# 01 WAP using function to find greatest of three numbers\n",
    "\n",
    "def greatest(num1 ,num2 ,num3 = 7): # num3 it is dafault argument\n",
    "    if num1 > num2 and num1 > num3 :\n",
    "        return num1\n",
    "    \n",
    "    elif num2 > num1 and num2 > num3 :\n",
    "        return num2\n",
    "    \n",
    "    else :\n",
    "        return num3\n",
    "    \n",
    "num1 = int( input(\" Enter the number 1 : \"))\n",
    "num2 = int( input(\" Enter the number 2 : \"))\n",
    "num3 = int( input(\" Enter the number 3 : \"))\n",
    "temp = greatest(num1 , num2 , num3 )\n",
    "print(\" The greatest number is : \", temp)\n",
    "\n",
    "print(\"The greatest number is :\" , greatest(3,6,7))\n",
    "\n",
    "s = greatest(8 , 9 )\n",
    "print(\" The greatest number is : \", s)"
   ]
  },
  {
   "cell_type": "code",
   "execution_count": null,
   "id": "95c274b5",
   "metadata": {},
   "outputs": [],
   "source": [
    "# 02 write a python program to convert celsius to fehreinheit\n",
    "\n",
    "def temp_convert(temp = 45) :\n",
    "    return (temp * 9/5) + 32\n",
    "    \n",
    "    \n",
    "    \n",
    "temp = int ( input (\" Enter the temperature in celcius : \"))\n",
    "result = temp_convert(temp)\n",
    "print(f\" The temprature {temp} celcius to fahrenheit : \" , result )\n",
    "\n",
    "print(f\" The temprature celcius to fahrenheit : \" , temp_convert() )"
   ]
  },
  {
   "cell_type": "code",
   "execution_count": null,
   "id": "da43f965",
   "metadata": {},
   "outputs": [],
   "source": [
    "# 03 How do you prevent a python print() function to print a new line at the end \n",
    "# Note - In Python, the print() function automatically appends a newline character (\\n) at the end of the printed output by default. If you want to prevent the print() function from adding a newline, you can use the end parameter.\n",
    "print(\"The line\" , end=\"No new line here\")\n",
    "print(\" 5\")\n"
   ]
  },
  {
   "cell_type": "code",
   "execution_count": null,
   "id": "13a9242e",
   "metadata": {},
   "outputs": [],
   "source": [
    "# 04 Write a recursive function to calculate the sum of first n natural numbers\n",
    "\n",
    "def sumof( num ) :\n",
    "    sum = 0\n",
    "    if num == 1:\n",
    "        return 1\n",
    "    else :\n",
    "        return num + sumof(num - 1)\n",
    "\n",
    "num = int ( input ( \" Enter the number : \"))\n",
    "s = sumof(num)\n",
    "print ( f\" The sum of first {num} natural numbers is : \", s)"
   ]
  },
  {
   "cell_type": "code",
   "execution_count": null,
   "id": "293fc7a6",
   "metadata": {},
   "outputs": [],
   "source": [
    "# 05 Write a python function to print first n lines of the following pattern\n",
    "# * * *\n",
    "# * *\n",
    "# *           ---> for n = 3\n",
    "\n",
    "def pattern( n ) :\n",
    "    for i in range (n , 0, -1) :\n",
    "        print(\" * \"* i , end=\" \")\n",
    "        print(\"\\n\")\n",
    "    \n",
    "n = 3\n",
    "pattern(n)"
   ]
  },
  {
   "cell_type": "code",
   "execution_count": null,
   "id": "94717963",
   "metadata": {},
   "outputs": [],
   "source": [
    "# 06 WAP function which converts inches to cms.\n",
    "\n",
    "def conversion( len ) :\n",
    "    return len * 2.54\n",
    "    \n",
    "    \n",
    "len = int ( input( \" Enter the length in inches : \"))\n",
    "print (f\" The length {len} inches is in cm : \", conversion(len))"
   ]
  },
  {
   "cell_type": "code",
   "execution_count": null,
   "id": "c5dd11fa",
   "metadata": {},
   "outputs": [],
   "source": [
    "# 07 Write a python function to remove a given word from a string and strip it at the same time\n",
    "\n",
    "def rem_strip_word( str , word ) :\n",
    "    new_str=str.replace(word, \" \")\n",
    "    print(new_str)\n",
    "    print(new_str.strip())\n",
    "    \n",
    "str = \"     Aisha Tanu Madhu     \"\n",
    "print(str)\n",
    "word = input (\" Enter the word : \")\n",
    "rem_strip_word( str, word)"
   ]
  },
  {
   "cell_type": "code",
   "execution_count": 31,
   "id": "07ebfb85",
   "metadata": {},
   "outputs": [
    {
     "name": "stdout",
     "output_type": "stream",
     "text": [
      " Enter the number : 8\n",
      "8 X 1 = 8\n",
      "8 X 2 = 16\n",
      "8 X 3 = 24\n",
      "8 X 4 = 32\n",
      "8 X 5 = 40\n",
      "8 X 6 = 48\n",
      "8 X 7 = 56\n",
      "8 X 8 = 64\n",
      "8 X 9 = 72\n",
      "8 X 10 = 80\n"
     ]
    }
   ],
   "source": [
    "# 08 Write a python function to print multiplication table of a given number \n",
    "\n",
    "def table( num ) :\n",
    "    for i in range (1 ,11) :\n",
    "        print(f\"{num} X {i} = {num*i}\")\n",
    "\n",
    "num = int ( input (\" Enter the number : \"))\n",
    "table(num)"
   ]
  },
  {
   "cell_type": "code",
   "execution_count": 30,
   "id": "9f16325f",
   "metadata": {},
   "outputs": [
    {
     "name": "stdout",
     "output_type": "stream",
     "text": [
      " *  *  * \n",
      "\n",
      "\n",
      " *  * \n",
      "\n",
      "\n",
      " * \n",
      "\n",
      "\n"
     ]
    }
   ],
   "source": [
    "n = 3\n",
    "for i in range (n ,0 ,-1) :\n",
    "    print(\" * \" * i )\n",
    "    print(\"\\n\")"
   ]
  },
  {
   "cell_type": "code",
   "execution_count": 32,
   "id": "8c97816f",
   "metadata": {},
   "outputs": [
    {
     "name": "stdout",
     "output_type": "stream",
     "text": [
      "False\n"
     ]
    }
   ],
   "source": [
    "print (0.1 + 0.2 == 0.3)"
   ]
  },
  {
   "cell_type": "markdown",
   "id": "6d59752e",
   "metadata": {},
   "source": [
    " # Chapter 09 File I/O"
   ]
  },
  {
   "cell_type": "code",
   "execution_count": null,
   "id": "091222b1",
   "metadata": {},
   "outputs": [],
   "source": [
    "# 01.WAP to read the text from a given file 'poem.txt' and find out whether it contains the word 'twinkle'.\n",
    "import os\n",
    "f = open('C:\\\\Interviewpreparatiion\\\\Program practice\\Python\\\\file handling\\\\poems.txt','r')\n",
    "t = f.read()\n",
    "if 'twinkle' in t :\n",
    "    print(\" 'Twinkle' Word is found ! \")\n",
    "else :\n",
    "    print(\"'Twinkle' word is not found !  \")\n",
    "f.close()"
   ]
  },
  {
   "cell_type": "code",
   "execution_count": null,
   "id": "41fbf4ba",
   "metadata": {},
   "outputs": [],
   "source": [
    "# 02.The game() function in a program lets a user play a game and returns the score as an integer . You need to read a file 'History.txt' \n",
    "# which is either blank or contains the previous Hi-score . You need to write a program to update the hi-score whenever game()breaks the hi-score.\n",
    "import os\n",
    "def game() :\n",
    "    return 45043\n",
    "\n",
    "with open('C:\\\\Interviewpreparatiion\\\\Program practice\\Python\\\\file handling\\\\history.txt') as f :\n",
    "    hiscore = f.read()\n",
    "score = game()\n",
    "\n",
    "if hiscore =='' :\n",
    "    with open('C:\\\\Interviewpreparatiion\\\\Program practice\\Python\\\\file handling\\\\history.txt','w') as f :\n",
    "        f.write(str(score))\n",
    "    print(\" Score added successfully !\")\n",
    "\n",
    "elif int(hiscore) < score :\n",
    "    with open('C:\\\\Interviewpreparatiion\\\\Program practice\\Python\\\\file handling\\\\history.txt','w') as f :\n",
    "        f.write(str(score))\n",
    "    print(\" Score updated successfully !\")\n",
    "\n",
    "\n"
   ]
  },
  {
   "cell_type": "code",
   "execution_count": null,
   "id": "25a6d786",
   "metadata": {},
   "outputs": [],
   "source": [
    "#03.WAP to generate multiplication table from 2 to 20 and write it to the different files. Place these files in a folder for a 13 year old.\n",
    "\n",
    "with open('C:\\\\Interviewpreparatiion\\\\Program practice\\\\Python\\\\file handling\\\\table\\\\multiplication.txt','w') as f :\n",
    "    for i in range ( 2, 21) :\n",
    "        f.write(f\"Multiplication table of {i}\\n\")\n",
    "        for j in range (1 , 11) :\n",
    "            f.write(f\"{i} X {j} = {i*j}\\n\")\n",
    "    \n",
    "    \n",
    "\n"
   ]
  },
  {
   "cell_type": "code",
   "execution_count": null,
   "id": "62e769ef",
   "metadata": {},
   "outputs": [],
   "source": [
    "# 04. A file contains a word \"Donkey\" multiple times. You need to write a program which replaces this word with ###### by updates the same file.\n",
    "with open('C:\\\\Interviewpreparatiion\\\\Program practice\\\\Python\\\\file handling\\\\poem.txt') as f :\n",
    "        content = f.read()\n",
    "content = content.replace('Donkey','#####')\n",
    "\n",
    "with open('C:\\\\Interviewpreparatiion\\\\Program practice\\\\Python\\\\file handling\\\\poem.txt','w') as f :\n",
    "    f.write(content)"
   ]
  },
  {
   "cell_type": "code",
   "execution_count": 34,
   "id": "4bf80ce1",
   "metadata": {},
   "outputs": [],
   "source": [
    "# 05.Repeat program 4 for a list of such words to be censored.\n",
    "with open('C:\\\\Interviewpreparatiion\\\\Program practice\\\\Python\\\\file handling\\\\list.txt','w') as f :\n",
    "    f.write(\" Bitch , Pagal Those word are very bad Don't use it and also avoid saying Boolshit\")\n",
    "with open('C:\\\\Interviewpreparatiion\\\\Program practice\\\\Python\\\\file handling\\\\list.txt') as f :\n",
    "    content = f.read()\n",
    "List = ['Bitch' , 'Pagal' , 'Boolshit' ]\n",
    "for i in List :\n",
    "    content = content.replace(i , \"\\t #%*!?#! \")\n",
    "    with open('C:\\\\Interviewpreparatiion\\\\Program practice\\\\Python\\\\file handling\\\\list.txt','w') as f :\n",
    "        f.write(content)\n",
    "        f.write(\" Updated !\")\n",
    "#with open('C:\\\\Interviewpreparatiion\\\\Program practice\\\\Python\\\\file handling\\\\list.txt') as f :\n",
    "#    f.write(content)"
   ]
  },
  {
   "cell_type": "code",
   "execution_count": null,
   "id": "ed378627",
   "metadata": {},
   "outputs": [],
   "source": [
    "# 06.Write a program to mine a log file and find out whether it contains 'python'.\n",
    "with open('C:\\\\Interviewpreparatiion\\\\Program practice\\\\Python\\\\file handling\\\\log.txt') as f :\n",
    "    content = f.read()\n",
    "    \n",
    "if 'python' in content.lower() :\n",
    "    print ( ' Python word is present !')\n",
    "else :\n",
    "    print ( ' Python word is not present !')"
   ]
  },
  {
   "cell_type": "code",
   "execution_count": null,
   "id": "9fc83b32",
   "metadata": {},
   "outputs": [],
   "source": [
    "# 07.WAP to find out the line number where python is present from Que.6\n",
    "\n",
    "content = True\n",
    "i = 1\n",
    "with open('C:\\\\Interviewpreparatiion\\\\Program practice\\\\Python\\\\file handling\\\\log.txt') as f :\n",
    "    while content :\n",
    "        content = f.readline()\n",
    "        if 'python' in content.lower() :\n",
    "            print(f\" 'python' word present at line number : {i}\")\n",
    "        i+=1\n"
   ]
  },
  {
   "cell_type": "code",
   "execution_count": null,
   "id": "cd6119e7",
   "metadata": {},
   "outputs": [],
   "source": [
    "# 08.WAP to make a copy of a text file \"this.txt\".\n",
    "\n",
    "with open('C:\\\\Interviewpreparatiion\\\\Program practice\\\\Python\\\\file handling\\\\this.txt') as f :\n",
    "    content = f.read()\n",
    "    \n",
    "with open('C:\\\\Interviewpreparatiion\\\\Program practice\\\\Python\\\\file handling\\\\copy.txt','w') as f:\n",
    "    f.write(content)"
   ]
  },
  {
   "cell_type": "code",
   "execution_count": null,
   "id": "342e69e0",
   "metadata": {},
   "outputs": [],
   "source": [
    "# 09.WAP to find out whether a file is identical & matches the content of another file.\n",
    "\n",
    "file1 = 'C:\\\\Interviewpreparatiion\\\\Program practice\\\\Python\\\\file handling\\\\this.txt'\n",
    "file2 = 'C:\\\\Interviewpreparatiion\\\\Program practice\\\\Python\\\\file handling\\\\copy.txt'\n",
    "\n",
    "with open(file1) as f :\n",
    "    f1 = f.read()\n",
    "\n",
    "with open(file2) as f :\n",
    "    f2 = f.read()\n",
    "\n",
    "if f1 == f2 :\n",
    "    print (\" Files are identical !\")\n",
    "else :\n",
    "    print (\" Files are not identical !\")"
   ]
  },
  {
   "cell_type": "code",
   "execution_count": null,
   "id": "2127a49e",
   "metadata": {},
   "outputs": [],
   "source": [
    "# 10.WAP to wipe out the contents of a file using python.\n",
    "\n",
    "filename = 'C:\\\\Interviewpreparatiion\\\\Program practice\\\\Python\\\\file handling\\\\history.txt'\n",
    "with open(filename,'w') as f :\n",
    "    f.write(\" \")"
   ]
  },
  {
   "cell_type": "code",
   "execution_count": null,
   "id": "e8c24625",
   "metadata": {},
   "outputs": [],
   "source": [
    "# 11.Write a python program to rename a file to \"record_by_python.txt\".\n",
    "\n",
    "import os\n",
    "oldname = \"C:\\\\Interviewpreparatiion\\\\Program practice\\\\Python\\\\file handling\\\\sample.txt\"\n",
    "newname = \"C:\\\\Interviewpreparatiion\\\\Program practice\\\\Python\\\\file handling\\\\record_by_python.txt\"\n",
    "\n",
    "with open (oldname) as f:\n",
    "    content = f.read()\n",
    "with open (newname,'w') as f:\n",
    "    f.write(content)\n",
    "    \n",
    "os.remove(oldname)"
   ]
  },
  {
   "cell_type": "markdown",
   "id": "b577f5f0",
   "metadata": {},
   "source": [
    "\n",
    "# Chapter 10 OOP\n"
   ]
  },
  {
   "cell_type": "code",
   "execution_count": null,
   "id": "cf46a10a",
   "metadata": {},
   "outputs": [],
   "source": [
    "# 01. Create a class programmer for storing information of few programmers working at microsoft.\n",
    "\n",
    "class programmer :\n",
    "    company = \"Microsoft\"\n",
    "    def programmer_info(self , name , salary , age ):\n",
    "        self.name = name\n",
    "        self.salary = salary\n",
    "        self.age = age\n",
    "        print(f\"\"\"Name :{self.name}\n",
    "                  Salary :{self.salary}  \n",
    "                  Age :{self.age}\"\"\")\n",
    "\n",
    "# object creation        \n",
    "obj1 = programmer()        \n",
    "obj2 = programmer()\n",
    "obj3 = programmer()\n",
    "\n",
    "# method call and passing arguments\n",
    "obj1.programmer_info('Pankaj' , 50000 , 23)\n",
    "obj2.programmer_info('Divya' , 67000 , 22)\n",
    "obj3.programmer_info('Rudra' , 69885 , 28)"
   ]
  },
  {
   "cell_type": "code",
   "execution_count": null,
   "id": "f051024e",
   "metadata": {},
   "outputs": [],
   "source": [
    "# 02. Write a class calculator capable of finding square , cube and squareroot of a number.\n",
    "import math\n",
    "\n",
    "class calculator :\n",
    "    def __init__(self,num) :\n",
    "        self.num = num\n",
    "        \n",
    "    def square(self) :\n",
    "        return self.num ** 2\n",
    "    \n",
    "    def cube(self) :\n",
    "        return self.num ** 3\n",
    "    \n",
    "    def square_root(self) :\n",
    "        return math.sqrt(self.num)\n",
    "    \n",
    "obj = calculator(int(input(\"Enter the number :\")))\n",
    "print(f\" Square :\",obj.square())\n",
    "print(f\" Cube :\",obj.cube())\n",
    "print(f\" Square Root :\",obj.square_root())"
   ]
  },
  {
   "cell_type": "code",
   "execution_count": null,
   "id": "98cc59e4",
   "metadata": {},
   "outputs": [],
   "source": [
    "# 04. Add a static method in problem 02 to greet the user with \" Hello ! \"\n",
    "\n",
    "import math\n",
    "\n",
    "class calculator :\n",
    "    def __init__(self,num) :\n",
    "        self.num = num\n",
    "        \n",
    "        \n",
    "    def square(self) :\n",
    "        return self.num ** 2\n",
    "    \n",
    "    def cube(self) :\n",
    "        return self.num ** 3\n",
    "    \n",
    "    def square_root(self) :\n",
    "        return math.sqrt(self.num)\n",
    "    \n",
    "    @staticmethod\n",
    "    def greet (name):\n",
    "        print(f\" Hello {name} ! Have a great day :)\")\n",
    "    \n",
    "obj = calculator(int(input(\"Enter the number :\")))\n",
    "name = input(\"Enter user name :\")\n",
    "calculator.greet(name)\n",
    "print(f\" Square :\",obj.square())\n",
    "print(f\" Cube :\",obj.cube())\n",
    "print(f\" Square Root :\",obj.square_root())\n"
   ]
  },
  {
   "cell_type": "code",
   "execution_count": null,
   "id": "6316a7a8",
   "metadata": {},
   "outputs": [],
   "source": [
    "# 03. Create a class with a class attribute a ; create an object from it and set a directly using object.a = 0. \n",
    "# Does this change the class attribute ?\n",
    "\n",
    "class sample :\n",
    "    a = 1\n",
    "    \n",
    "obj = sample()\n",
    "print(\" Print value of a before modification : \",sample.a)\n",
    "print(\" Print value of a before modification : \",obj.a)\n",
    "\n",
    "\n",
    "obj.a = 0\n",
    "print(\" Print value of a After modification : \",sample.a) # class attribute obj.a = 0. However,this does not change the class attribute itself\n",
    "print(\" Print value of a After modification : \",obj.a) # instance attribute\n"
   ]
  },
  {
   "cell_type": "code",
   "execution_count": 35,
   "id": "3e137e18",
   "metadata": {},
   "outputs": [
    {
     "name": "stdout",
     "output_type": "stream",
     "text": [
      " Enter how many seats you want to book : 6\n",
      " Your seat is successufully booked ! Your seat number is 30 - 24 \n",
      "Choose which kind of seat you want AC(1) , Non-AC(2) , First-class(3) , General(4) 7\n",
      " Please kindly choose correct option in between 1 to 4 :\n",
      "Choose which kind of seat you want AC(1) , Non-AC(2) , First-class(3) , General(4) 4\n",
      " Your total seats are 6 and your total amount is : 2040\n",
      " In  Jhelam  Railway There are available seats are : 24\n"
     ]
    }
   ],
   "source": [
    "# 05. Write a class Train which has methods to book a ticket , get status (no. of seats) and \n",
    "# get fare information of trains running under Indian Railways.\n",
    "\n",
    "class Train :\n",
    "    def __init__(self ,name,seats,fare,num,total):\n",
    "        self.name = name\n",
    "        self.seats = seats\n",
    "        self.fare = fare\n",
    "        self.num = num\n",
    "        self.total = total\n",
    "    \n",
    "    def ticket_booking(self):\n",
    "        if self.seats > 0 and self.seats >= self.num :\n",
    "            print( f\" Your seat is successufully booked ! Your seat number is {self.seats} - {self.seats - self.num} \")\n",
    "            self.seats = self.seats - self.num\n",
    "            self.fare_info()\n",
    "            print(f\" Your total seats are {self.num} and your total amount is : {self.total}\")\n",
    "        else :\n",
    "            print(\" Sorry No seats are available ! Try in 'Tatkal'\")\n",
    "    \n",
    "    def get_status(self):\n",
    "        print(f\" In {self.name} Railway There are available seats are : {self.seats}\")\n",
    "    \n",
    "    def fare_info(self):\n",
    "        option = int(input(\"Choose which kind of seat you want AC(1) , Non-AC(2) , First-class(3) , General(4) \"))\n",
    "        if option == 1 :\n",
    "            self.total = (self.fare + 500) * self.num\n",
    "            return total\n",
    "        elif option == 2 :\n",
    "            self.total = (self.fare + 300) * self.num\n",
    "            return total\n",
    "        elif option == 3 :\n",
    "            self.total = (self.fare + 450) * self.num\n",
    "            return total\n",
    "        elif option == 4 :\n",
    "            self.total = self.fare * self.num\n",
    "            return total\n",
    "        else :\n",
    "            print(\" Please kindly choose correct option in between 1 to 4 :\")\n",
    "            self.fare_info()   \n",
    "        #print(f\" Your total seats are {self.num} and your total amount is : {total}\")\n",
    "        \n",
    "name = \" Jhelam \"\n",
    "seats = 30 # Available seats are\n",
    "fare = 340\n",
    "num = int (input(\" Enter how many seats you want to book : \"))\n",
    "total = 0\n",
    "obj = Train( name , seats , fare , num, total)\n",
    "obj.ticket_booking()\n",
    "#obj.fare_info()\n",
    "obj.get_status()\n",
    "\n"
   ]
  },
  {
   "cell_type": "code",
   "execution_count": null,
   "id": "17e94f8e",
   "metadata": {},
   "outputs": [],
   "source": [
    "# 06. Can you change the self parameter inside a class to something else (say 'harry') . Try changing self to 'slf' or 'harry'\n",
    "# and set the effects.\n",
    "\n",
    "class sample :\n",
    "    def __init__(slf,name) :\n",
    "        slf.name = name\n",
    "        print(slf.name)\n",
    "        \n",
    "obj = sample(' Divya ')\n",
    "\n",
    "# Yes we can change self parameter by any name "
   ]
  },
  {
   "cell_type": "code",
   "execution_count": null,
   "id": "e10edcc1",
   "metadata": {},
   "outputs": [],
   "source": [
    "#In Python, constructor overloading is not directly supported as it is in some other programming languages like C++ or Java. \n",
    "#In Python, a class can have only one constructor, which is the __init__ method.\n",
    "#However, you can achieve similar functionality by using default parameter values and \n",
    "#providing multiple ways to instantiate your class.\n",
    "\n",
    "#Here's an example to demonstrate constructor overloading-like behavior in Python:\n",
    "\n",
    "class MyClass:\n",
    "    def __init__(self, param1=None, param2=None):\n",
    "        if param1 is not None and param2 is not None:\n",
    "            # Constructor with two parameters\n",
    "            self.param1 = param1\n",
    "            self.param2 = param2\n",
    "        elif param1 is not None:\n",
    "            # Constructor with one parameter\n",
    "            self.param1 = param1\n",
    "            self.param2 = \"default_value\"\n",
    "        else:\n",
    "            # Default constructor\n",
    "            self.param1 = \"default_value\"\n",
    "            self.param2 = \"default_value\"\n",
    "\n",
    "# Creating objects using different constructors\n",
    "obj1 = MyClass()\n",
    "print(obj1.param1, obj1.param2)  # Output: default_value default_value\n",
    "\n",
    "obj2 = MyClass(\"value1\")\n",
    "print(obj2.param1, obj2.param2)  # Output: value1 default_value\n",
    "\n",
    "obj3 = MyClass(\"value1\", \"value2\")\n",
    "print(obj3.param1, obj3.param2)  # Output: value1 value2\n",
    "#In this example, the __init__ method takes two parameters, param1 and param2, with default values set to None. \n",
    "#Depending on the values passed during the object creation, different constructors are simulated.\n",
    "\n",
    "#While this approach provides some flexibility, \n",
    "#it's essential to document the intended use of each parameter to avoid confusion for users of your class."
   ]
  },
  {
   "cell_type": "markdown",
   "id": "5318fcfe",
   "metadata": {},
   "source": [
    "# Chapter 11 Inheritance\n"
   ]
  },
  {
   "cell_type": "code",
   "execution_count": null,
   "id": "c5fa0ae4",
   "metadata": {},
   "outputs": [],
   "source": [
    "# 01. Create a class c2dvector and use it to create another class representing a 3-d vector.\n",
    "\n",
    "class c2dvector :\n",
    "    def __init__(self,i,j) :\n",
    "        self.icap = i\n",
    "        self.jcap = j\n",
    "        \n",
    "    def __str__(self) :\n",
    "        return f\"{self.icap}i + {self.jcap}j \"\n",
    "    \n",
    "class c3dvector(c2dvector) :\n",
    "    def __init__(self,i,j,k) :\n",
    "        super().__init__(i,j)\n",
    "        self.kcap = k\n",
    "        \n",
    "    def __str__(self) :\n",
    "        return f\"{self.icap}i + {self.jcap}j + {self.kcap}k\"\n",
    "    \n",
    "d2cev = c2dvector(3,6)\n",
    "d3vec = c3dvector(4,8,7)\n",
    "print(d2cev)\n",
    "print(d3vec)\n"
   ]
  },
  {
   "cell_type": "code",
   "execution_count": null,
   "id": "63fb7d36",
   "metadata": {},
   "outputs": [],
   "source": [
    "# 02. Create a class pets from a class Animals and further create class Dog from Pets. Add a method bark to class Dog.\n",
    "\n",
    "class Animals :\n",
    "    def __init__(self,name) :\n",
    "        self.name = name\n",
    "        print(\" Animals are loyal ! Animals have 2 types Wild and Pet animals \")\n",
    "        if self.name == 'cat' :\n",
    "            print('Myav Myav')\n",
    "        elif self.name == 'dog' :\n",
    "            print(\"Bhav Bhav\")\n",
    "        else :\n",
    "            print(f\"no sound information of {self.name}\")\n",
    "\n",
    "class Pets(Animals):\n",
    "    def __init__(self,name) :\n",
    "        super().__init__(name)\n",
    "        print(\" Pets are loving nature and nurturing \")\n",
    "\n",
    "class Dog(Pets) :\n",
    "    def __init__(self,name) :\n",
    "        super().__init__(name)\n",
    "    def bark(self) :\n",
    "        print(\" The sound of Dog known as 'Barking '\")\n",
    "obj1 = Animals('cat')\n",
    "obj2 = Pets('dog')\n",
    "obj3 = Dog('dog')\n",
    "\n",
    "\n",
    "obj3.bark()"
   ]
  },
  {
   "cell_type": "code",
   "execution_count": null,
   "id": "b0b0900b",
   "metadata": {},
   "outputs": [],
   "source": [
    "# 03. Create a class Employee and add salary and increment properties to it. Write a mothod SalarayAfterIncrement() method\n",
    "# with a @property decorator with a setter which changes the value of increment based on the salary.\n",
    "\n",
    "class Employee :\n",
    "    salary = 50000\n",
    "    increment = 1.5\n",
    "    \n",
    "    @property\n",
    "    def salaryAfterIncrement(self) :\n",
    "        return self.salary * self.increment\n",
    "    \n",
    "    @salaryAfterIncrement.setter\n",
    "    def salaryAfterIncrement(self,sai) : # sai = salary after increment\n",
    "        self.increment = sai / self.salary\n",
    "        \n",
    "emp = Employee()\n",
    "print( emp.increment)\n",
    "emp.salaryAfterIncrement = 20000\n",
    "print( emp.salaryAfterIncrement)\n",
    "print( emp.increment)\n",
    "print( emp.salary)"
   ]
  },
  {
   "cell_type": "code",
   "execution_count": 36,
   "id": "be44910e",
   "metadata": {},
   "outputs": [
    {
     "name": "stdout",
     "output_type": "stream",
     "text": [
      "4 + 9i\n",
      "-11 + 23i\n"
     ]
    }
   ],
   "source": [
    "# 04. Write a class complex to represent complex numbers , along with overloaded operators + and * operator which adds and \n",
    "# multiplies them.\n",
    "\n",
    "class complex :\n",
    "    def __init__(self , r, i) :\n",
    "        self.real = r\n",
    "        self.imaginary = i\n",
    "        \n",
    "    def __add__(self,c) :\n",
    "        return complex(self.real + c.real , self.imaginary + c.imaginary ) \n",
    "    \n",
    "    def __mul__(self , c) :\n",
    "        mulreal = self.real * c.real - self.imaginary * c.imaginary\n",
    "        mulimg = self.real * c.imaginary + self.imaginary * c.real\n",
    "        return complex(mulreal , mulimg)\n",
    "    \n",
    "    def __str__(self) :\n",
    "        if self.imaginary < 0 :\n",
    "            return f\"{self.real} - {-self.imaginary}i\"\n",
    "        else :\n",
    "            return f\"{self.real} + {self.imaginary}i\"\n",
    "        \n",
    "c1 = complex(3,2)\n",
    "c2 = complex(1,7)\n",
    "print(c1 + c2)\n",
    "print(c1*c2)"
   ]
  },
  {
   "cell_type": "code",
   "execution_count": null,
   "id": "c6d5796c",
   "metadata": {},
   "outputs": [],
   "source": [
    "# 05. Write a class vector representing a vector of n dimension. Overload the + and * operator which calculates the sum and \n",
    "# the dot product of them. \n",
    "\n",
    "class vector :\n",
    "    def __init__(self , vec) :\n",
    "        self.vec = vec\n",
    "        \n",
    "    def __str__(self) :\n",
    "        str1 = \"\"\n",
    "        index = 0\n",
    "        for i in self.vec :\n",
    "            str1 += f\"{i}a{index} +\"\n",
    "            index += 1\n",
    "        return str1[:-1]\n",
    "    \n",
    "    def __add__(self,vec2) :\n",
    "        newlist = []\n",
    "        for i in range (len(self.vec)) :\n",
    "            newlist.append(self.vec[i] + vec2.vec[i])\n",
    "        return vector(newlist)\n",
    "    \n",
    "    def __mul__(self,vec2) :\n",
    "        sum = 0\n",
    "        for i in range (len(self.vec)) :\n",
    "            sum += self.vec[i] + vec2.vec[i]\n",
    "        return sum\n",
    "        \n",
    "        \n",
    "v1 = vector([2,4,5,6,8])\n",
    "v2 = vector([3,9,4,1,5])\n",
    "print(v1 + v2)\n",
    "print(v1 * v2)"
   ]
  },
  {
   "cell_type": "code",
   "execution_count": null,
   "id": "aa568bc8",
   "metadata": {},
   "outputs": [],
   "source": [
    "# 06. Write __str__() method to print the vector as follows : \n",
    "# 7i(cap) + 8j(cap) + 10k(cap)  Assume vector of dimension 3 for this problem.\n",
    "\n",
    "class vector :\n",
    "    def __init__(self , vec) :\n",
    "        self.vec = vec\n",
    "        \n",
    "    def __str__(self) :\n",
    "        return f\"{self.vec[0]}i + {self.vec[1]}j + {self.vec[2]}k\"\n",
    "\n",
    "v1 = vector([1,3,5])\n",
    "v2 = vector([2,4,6])\n",
    "print(v1)\n",
    "print(v2)"
   ]
  },
  {
   "cell_type": "code",
   "execution_count": null,
   "id": "83b8b547",
   "metadata": {},
   "outputs": [],
   "source": [
    "# 07. Override the __len__() method on vector of problem 05 to display the dimension of vector.\n",
    "\n",
    "class vector :\n",
    "    def __init__(self , vec) :\n",
    "        self.vec = vec\n",
    "        \n",
    "    def __str__(self) :\n",
    "        str1 = \"\"\n",
    "        index = 0\n",
    "        for i in self.vec :\n",
    "            str1 += f\"{i}a{index} +\"\n",
    "            index += 1\n",
    "        return str1[:-1]\n",
    "    \n",
    "    def __add__(self,vec2) :\n",
    "        newlist = []\n",
    "        for i in range (len(self.vec)) :\n",
    "            newlist.append(self.vec[i] + vec2.vec[i])\n",
    "        return vector(newlist)\n",
    "    \n",
    "    def __mul__(self,vec2) :\n",
    "        sum = 0\n",
    "        for i in range (len(self.vec)) :\n",
    "            sum += self.vec[i] + vec2.vec[i]\n",
    "        return sum\n",
    "        \n",
    "    def __len__(self) :\n",
    "        return len(self.vec)\n",
    "        \n",
    "v1 = vector([2,4,5,6,8])\n",
    "v2 = vector([3,9,4,1,5])\n",
    "print(v1 + v2)\n",
    "print(v1 * v2)\n",
    "print(len(v1))\n",
    "print(len(v2))"
   ]
  },
  {
   "cell_type": "markdown",
   "id": "30d6a83a",
   "metadata": {},
   "source": [
    "# Chapter 12 Advance Python ~ 01"
   ]
  },
  {
   "cell_type": "code",
   "execution_count": null,
   "id": "76463a3f",
   "metadata": {},
   "outputs": [],
   "source": [
    "# 01. Write a python program to open three files 1.txt 2.txt and 3.txt . If any of these files are not present , \n",
    "# a message without exiting the program must be printed prompting the same.\n",
    "  \n",
    "try :\n",
    "    with open(\"C:\\\\Interviewpreparatiion\\\\Program practice\\\\Python\\\\file handling\\\\1.txt\",\"r\") as f:\n",
    "        f1 = f.read()\n",
    "            \n",
    "    with open(\"C:\\\\Interviewpreparatiion\\\\Program practice\\\\Python\\\\file handling\\\\2.txt\",\"r\") as f:\n",
    "        f2 = f.read()\n",
    "    \n",
    "    with open(\"C:\\\\Interviewpreparatiion\\\\Program practice\\\\Python\\\\file handling\\\\3.txt\",\"r\") as f:\n",
    "        f3 = f.read()\n",
    "        \n",
    "#except Exception as e :\n",
    " #   print(e)\n",
    "    \n",
    "except FileNoFoundError :\n",
    "    raise FileError(\" File not exist ! \")\n",
    "        \n",
    "finally :\n",
    "    print(\" Program executed successfully ! \")\n"
   ]
  },
  {
   "cell_type": "code",
   "execution_count": null,
   "id": "fd40dd5b",
   "metadata": {},
   "outputs": [],
   "source": [
    "def FileRead( FileName ) :\n",
    "    try :\n",
    "        with open(FileName , \"r\") as f :\n",
    "            print(f.read())\n",
    "    except FileNotFoundError :\n",
    "        print(f\" File {FileName} Not Found ! \")\n",
    "        \n",
    "FileRead(\"C:\\\\Interviewpreparatiion\\\\Program practice\\\\Python\\\\file handling\\\\1.txt\")\n",
    "FileRead(\"C:\\\\Interviewpreparatiion\\\\Program practice\\\\Python\\\\file handling\\\\2.txt\")\n",
    "FileRead(\"C:\\\\Interviewpreparatiion\\\\Program practice\\\\Python\\\\file handling\\\\3.txt\")"
   ]
  },
  {
   "cell_type": "code",
   "execution_count": 37,
   "id": "86808d71",
   "metadata": {},
   "outputs": [
    {
     "name": "stdout",
     "output_type": "stream",
     "text": [
      "Divya 3\n",
      "Rudra 5\n",
      "87 7\n"
     ]
    }
   ],
   "source": [
    "# 02. Write a program to print third , fifth and seventh element from a list using enumerate function.\n",
    "\n",
    "list = [2,3,4,\"Divya\",\"Era\",\"Rudra\",\"Nakul\",87,45]\n",
    "for i,item in enumerate(list) :\n",
    "    if i == 3 or i == 5 or i == 7 :\n",
    "        print(item , i)\n",
    "\n"
   ]
  },
  {
   "cell_type": "code",
   "execution_count": null,
   "id": "56208975",
   "metadata": {},
   "outputs": [],
   "source": [
    "list = [2,3,4,\"Divya\",\"Era\",\"Rudra\",\"Nakul\",87,45]\n",
    "for i,item in enumerate(list) :\n",
    "    lst =[3,5,7]\n",
    "    for j in lst :\n",
    "        if i == j :\n",
    "            print()"
   ]
  },
  {
   "cell_type": "code",
   "execution_count": 39,
   "id": "2b583b67",
   "metadata": {},
   "outputs": [
    {
     "name": "stdout",
     "output_type": "stream",
     "text": [
      "Enter the number :5\n",
      "[15, 15, 20, 50]\n"
     ]
    }
   ],
   "source": [
    "# 03. Write a list comprehension to print a list which contains the multiplication table of a user entered number.\n",
    "\n",
    "num = int(input(\"Enter the number :\"))\n",
    "list1 = [20,3,4,15,6,7,8,91,50,22,34,15,16,18,9]\n",
    "list2 = []\n",
    "table = []\n",
    "\n",
    "for i in range (1, 101) :\n",
    "    table.append(num * i)\n",
    "#print(table)\n",
    "\n",
    "for i in table :\n",
    "    for j in list1 :\n",
    "        if i == j :\n",
    "            list2.append(i)\n",
    "            \n",
    "print( list2 )"
   ]
  },
  {
   "cell_type": "code",
   "execution_count": null,
   "id": "4be10dc4",
   "metadata": {},
   "outputs": [],
   "source": [
    "i = 1\n",
    "print(i)"
   ]
  },
  {
   "cell_type": "code",
   "execution_count": null,
   "id": "6c4102f9",
   "metadata": {},
   "outputs": [],
   "source": [
    "# 04. Write a program to display a/b when a and b are integers. If b = 0 , display infinite by handling the ZeroDivisionError.\n",
    "\n",
    "a = int ( input(\" Enter the dividend : \"))\n",
    "b = int ( input(\" Enter the divisor : \"))\n",
    "try :\n",
    "    print( a/b )\n",
    "    \n",
    "except ZeroDivisionError as e :\n",
    "    print( e )\n"
   ]
  },
  {
   "cell_type": "code",
   "execution_count": 40,
   "id": "cadc89cf",
   "metadata": {},
   "outputs": [
    {
     "name": "stdout",
     "output_type": "stream",
     "text": [
      "Enter the number :5\n",
      "[15, 15, 20, 50]\n"
     ]
    },
    {
     "ename": "TypeError",
     "evalue": "'str' object is not callable",
     "output_type": "error",
     "traceback": [
      "\u001b[1;31m---------------------------------------------------------------------------\u001b[0m",
      "\u001b[1;31mTypeError\u001b[0m                                 Traceback (most recent call last)",
      "Cell \u001b[1;32mIn[40], line 20\u001b[0m\n\u001b[0;32m     18\u001b[0m \u001b[38;5;28;01mwith\u001b[39;00m \u001b[38;5;28mopen\u001b[39m(\u001b[38;5;124m\"\u001b[39m\u001b[38;5;124mC:\u001b[39m\u001b[38;5;130;01m\\\\\u001b[39;00m\u001b[38;5;124mInterviewpreparatiion\u001b[39m\u001b[38;5;130;01m\\\\\u001b[39;00m\u001b[38;5;124mProgram practice\u001b[39m\u001b[38;5;130;01m\\\\\u001b[39;00m\u001b[38;5;124mPython\u001b[39m\u001b[38;5;130;01m\\\\\u001b[39;00m\u001b[38;5;124mfile handling\u001b[39m\u001b[38;5;130;01m\\\\\u001b[39;00m\u001b[38;5;124mTables.txt\u001b[39m\u001b[38;5;124m\"\u001b[39m,\u001b[38;5;124m\"\u001b[39m\u001b[38;5;124mw\u001b[39m\u001b[38;5;124m\"\u001b[39m) \u001b[38;5;28;01mas\u001b[39;00m f :\n\u001b[0;32m     19\u001b[0m     f\u001b[38;5;241m.\u001b[39mwrite(\u001b[38;5;124m\"\u001b[39m\u001b[38;5;124mList2 - The values which are multiplied by user entered number \u001b[39m\u001b[38;5;130;01m\\n\u001b[39;00m\u001b[38;5;124m\"\u001b[39m)\n\u001b[1;32m---> 20\u001b[0m     f\u001b[38;5;241m.\u001b[39mwrite(\u001b[38;5;28mstr\u001b[39m(list2))\n\u001b[0;32m     21\u001b[0m     f\u001b[38;5;241m.\u001b[39mwrite(\u001b[38;5;124m\"\u001b[39m\u001b[38;5;130;01m\\n\u001b[39;00m\u001b[38;5;124m\"\u001b[39m)\n\u001b[0;32m     22\u001b[0m     f\u001b[38;5;241m.\u001b[39mwrite(\u001b[38;5;124m\"\u001b[39m\u001b[38;5;124mMultiplication table of user entered number \u001b[39m\u001b[38;5;130;01m\\n\u001b[39;00m\u001b[38;5;124m\"\u001b[39m)\n",
      "\u001b[1;31mTypeError\u001b[0m: 'str' object is not callable"
     ]
    }
   ],
   "source": [
    "# 05. Store the multiplication tables generated in Problem 03 in a file named Tables.txt .\n",
    "\n",
    "num = int(input(\"Enter the number :\"))\n",
    "list1 = [20,3,4,15,6,7,8,91,50,22,34,15,16,18,9]\n",
    "list2 = []\n",
    "table = []\n",
    "\n",
    "for i in range (1, 101) :\n",
    "    table.append(num * i)\n",
    "#print(table)\n",
    "\n",
    "for i in table :\n",
    "    for j in list1 :\n",
    "        if i == j :\n",
    "            list2.append(i)\n",
    "            \n",
    "print( list2 )\n",
    "with open(\"C:\\\\Interviewpreparatiion\\\\Program practice\\\\Python\\\\file handling\\\\Tables.txt\",\"w\") as f :\n",
    "    f.write(\"List2 - The values which are multiplied by user entered number \\n\")\n",
    "    f.write(str(list2))\n",
    "    f.write(\"\\n\")\n",
    "    f.write(\"Multiplication table of user entered number \\n\")\n",
    "    f.write(str(table))\n",
    "\n"
   ]
  },
  {
   "cell_type": "markdown",
   "id": "65512386",
   "metadata": {},
   "source": [
    "# Chapter 03 Advance python ~ 02"
   ]
  },
  {
   "cell_type": "code",
   "execution_count": null,
   "id": "e521b4a1",
   "metadata": {},
   "outputs": [],
   "source": [
    "# 01. create a two virtual environments , installs few packages in the first one. How do you create a similar environment\n",
    "# in the second one.\n",
    "\n",
    "01 . pip install virtualenv\n",
    "\n",
    "02. virtualenv env1\n",
    "    \n",
    "03. virtualenv env1\n",
    "\n",
    "04. .\\env1\\Scripts\\activate.ps1     \n",
    "\n",
    "05. pip freeze > requirements.txt\n",
    "\n",
    "06. pip install -r requirements.txt   # env2\n"
   ]
  },
  {
   "cell_type": "code",
   "execution_count": null,
   "id": "e2eb4505",
   "metadata": {
    "scrolled": true
   },
   "outputs": [],
   "source": [
    "# 02. Write a program to input name , marks and phone number of a student and format it using the format function like below\n",
    "# \" The name of the student is Harry , his marks are 72 and phone number is 99999888 \"\n",
    "\n",
    "name = input( \" Enter the name : \")\n",
    "marks = int(input(\" Enter the marks : \"))\n",
    "phone_no = input(\" Enter the phone number : \")\n",
    "\n",
    "data = \" Name Of Student :{} \\n Marks Obtained : {} \\n Phone Number : {} \".format(name,marks,phone_no)\n",
    "\n",
    "print( data )\n"
   ]
  },
  {
   "cell_type": "code",
   "execution_count": null,
   "id": "e12afb81",
   "metadata": {},
   "outputs": [],
   "source": [
    "name = input( \" Enter the name : \")\n",
    "marks = int(input(\" Enter the marks : \"))\n",
    "phone_no = input(\" Enter the phone number : \")\n",
    "\n",
    "data = \" Name Of Student :{1} \\n Marks Obtained : {2} \\n Phone Number : {0} \".format(phone_no,name,marks)\n",
    "\n",
    "print( data )"
   ]
  },
  {
   "cell_type": "code",
   "execution_count": 42,
   "id": "9f68d958",
   "metadata": {
    "scrolled": true
   },
   "outputs": [
    {
     "ename": "TypeError",
     "evalue": "'str' object is not callable",
     "output_type": "error",
     "traceback": [
      "\u001b[1;31m---------------------------------------------------------------------------\u001b[0m",
      "\u001b[1;31mTypeError\u001b[0m                                 Traceback (most recent call last)",
      "Cell \u001b[1;32mIn[42], line 4\u001b[0m\n\u001b[0;32m      1\u001b[0m \u001b[38;5;66;03m# 03. A list contains the multiplication table of 7 . Write a program to convert it to a vertical string of same numbers \u001b[39;00m\n\u001b[0;32m      2\u001b[0m \u001b[38;5;66;03m# ( 7 14 ...)\u001b[39;00m\n\u001b[1;32m----> 4\u001b[0m \u001b[38;5;28mlist\u001b[39m \u001b[38;5;241m=\u001b[39m [ \u001b[38;5;28mstr\u001b[39m(i\u001b[38;5;241m*\u001b[39m\u001b[38;5;241m7\u001b[39m) \u001b[38;5;28;01mfor\u001b[39;00m i \u001b[38;5;129;01min\u001b[39;00m \u001b[38;5;28mrange\u001b[39m(\u001b[38;5;241m1\u001b[39m , \u001b[38;5;241m11\u001b[39m ) ]\n\u001b[0;32m      5\u001b[0m \u001b[38;5;28mprint\u001b[39m( \u001b[38;5;28mlist\u001b[39m )\n\u001b[0;32m      7\u001b[0m table \u001b[38;5;241m=\u001b[39m \u001b[38;5;124m\"\u001b[39m\u001b[38;5;130;01m\\n\u001b[39;00m\u001b[38;5;124m\"\u001b[39m\u001b[38;5;241m.\u001b[39mjoin(\u001b[38;5;28mlist\u001b[39m)\n",
      "Cell \u001b[1;32mIn[42], line 4\u001b[0m, in \u001b[0;36m<listcomp>\u001b[1;34m(.0)\u001b[0m\n\u001b[0;32m      1\u001b[0m \u001b[38;5;66;03m# 03. A list contains the multiplication table of 7 . Write a program to convert it to a vertical string of same numbers \u001b[39;00m\n\u001b[0;32m      2\u001b[0m \u001b[38;5;66;03m# ( 7 14 ...)\u001b[39;00m\n\u001b[1;32m----> 4\u001b[0m \u001b[38;5;28mlist\u001b[39m \u001b[38;5;241m=\u001b[39m [ \u001b[38;5;28mstr\u001b[39m(i\u001b[38;5;241m*\u001b[39m\u001b[38;5;241m7\u001b[39m) \u001b[38;5;28;01mfor\u001b[39;00m i \u001b[38;5;129;01min\u001b[39;00m \u001b[38;5;28mrange\u001b[39m(\u001b[38;5;241m1\u001b[39m , \u001b[38;5;241m11\u001b[39m ) ]\n\u001b[0;32m      5\u001b[0m \u001b[38;5;28mprint\u001b[39m( \u001b[38;5;28mlist\u001b[39m )\n\u001b[0;32m      7\u001b[0m table \u001b[38;5;241m=\u001b[39m \u001b[38;5;124m\"\u001b[39m\u001b[38;5;130;01m\\n\u001b[39;00m\u001b[38;5;124m\"\u001b[39m\u001b[38;5;241m.\u001b[39mjoin(\u001b[38;5;28mlist\u001b[39m)\n",
      "\u001b[1;31mTypeError\u001b[0m: 'str' object is not callable"
     ]
    }
   ],
   "source": [
    "# 03. A list contains the multiplication table of 7 . Write a program to convert it to a vertical string of same numbers \n",
    "# ( 7 14 ...)\n",
    "\n",
    "list = [ str(i*7) for i in range(1 , 11 ) ]\n",
    "print( list )\n",
    "\n",
    "table = \"\\n\".join(list)\n",
    "print(table)"
   ]
  },
  {
   "cell_type": "code",
   "execution_count": 43,
   "id": "1f8df946",
   "metadata": {},
   "outputs": [
    {
     "ename": "TypeError",
     "evalue": "'list' object is not callable",
     "output_type": "error",
     "traceback": [
      "\u001b[1;31m---------------------------------------------------------------------------\u001b[0m",
      "\u001b[1;31mTypeError\u001b[0m                                 Traceback (most recent call last)",
      "Cell \u001b[1;32mIn[43], line 10\u001b[0m\n\u001b[0;32m      7\u001b[0m         \u001b[38;5;28;01mreturn\u001b[39;00m \u001b[38;5;28;01mFalse\u001b[39;00m \n\u001b[0;32m      9\u001b[0m l \u001b[38;5;241m=\u001b[39m [\u001b[38;5;241m3\u001b[39m,\u001b[38;5;241m5\u001b[39m,\u001b[38;5;241m6\u001b[39m,\u001b[38;5;241m45\u001b[39m,\u001b[38;5;241m67\u001b[39m,\u001b[38;5;241m60\u001b[39m,\u001b[38;5;241m80\u001b[39m,\u001b[38;5;241m23\u001b[39m,\u001b[38;5;241m13\u001b[39m,\u001b[38;5;241m15\u001b[39m,\u001b[38;5;241m30\u001b[39m]\n\u001b[1;32m---> 10\u001b[0m result \u001b[38;5;241m=\u001b[39m \u001b[38;5;28mlist\u001b[39m(\u001b[38;5;28mfilter\u001b[39m(divisible,l))\n\u001b[0;32m     12\u001b[0m \u001b[38;5;28mprint\u001b[39m(result)\n",
      "\u001b[1;31mTypeError\u001b[0m: 'list' object is not callable"
     ]
    }
   ],
   "source": [
    "# 04. Write a program to filter a list of numbers which are divisible by 5.\n",
    "\n",
    "def divisible(num) :\n",
    "    if num % 5 == 0 :\n",
    "        return True\n",
    "    else :\n",
    "        return False \n",
    "    \n",
    "l = [3,5,6,45,67,60,80,23,13,15,30]\n",
    "result = list(filter(divisible,l))\n",
    "\n",
    "print(result)\n"
   ]
  },
  {
   "cell_type": "code",
   "execution_count": null,
   "id": "1ccb75dd",
   "metadata": {},
   "outputs": [],
   "source": [
    "l = [3,5,6,45,67,60,80,23,13,15,30]\n",
    "\n",
    "result = filter(lambda x : x % 5 == 0 , l)\n",
    "print(list(result))\n"
   ]
  },
  {
   "cell_type": "code",
   "execution_count": 44,
   "id": "4e0cea2a",
   "metadata": {},
   "outputs": [
    {
     "name": "stdout",
     "output_type": "stream",
     "text": [
      "91\n"
     ]
    }
   ],
   "source": [
    "# 05. Write a program to find the maximum of the numbers in a list using the reduce function.\n",
    "from functools import reduce\n",
    "\n",
    "list = [3,67,45,43,23,91,58,76]\n",
    "\n",
    "result = reduce(max , list)\n",
    "print(result)\n"
   ]
  },
  {
   "cell_type": "code",
   "execution_count": null,
   "id": "0f6a0b83",
   "metadata": {},
   "outputs": [],
   "source": [
    "# 06. Run pip freeze for the system interpreter. Take the contents and create a similar virtual environment.\n",
    "\n",
    "04. .\\env1\\Scripts\\activate.ps1     \n",
    "\n",
    "05. pip freeze > requirements.txt\n",
    "\n",
    "06. pip install -r requirements.txt   # env2\n",
    "\n"
   ]
  },
  {
   "cell_type": "code",
   "execution_count": null,
   "id": "b4305ee8",
   "metadata": {},
   "outputs": [],
   "source": [
    "# 07. Explore the Flask module and create a web server using flask and python.\n",
    "\n",
    "from flask import Flask\n",
    "app = Flask(__name__)\n",
    "\n",
    "@app.route('/')\n",
    "def hello():\n",
    "    return 'Hello World!'\n"
   ]
  },
  {
   "cell_type": "code",
   "execution_count": null,
   "id": "42341ba9",
   "metadata": {},
   "outputs": [],
   "source": [
    "# Project 01 Snake , Water , Gun Game\n",
    "\n",
    "import random\n",
    "\n",
    "def gamewin( comp , player ) :\n",
    "    if comp == player :\n",
    "        print(\" Tie ! \")\n",
    "    elif comp == 's' :\n",
    "        if player == 'g' :\n",
    "            return True \n",
    "        else :\n",
    "            return False\n",
    "    elif comp == 'w' :\n",
    "        if player =='g' :\n",
    "            return False\n",
    "        else :\n",
    "            return True\n",
    "    elif comp == 'g' :\n",
    "        if player == 's' :\n",
    "            return False\n",
    "        else :\n",
    "            return True\n",
    "\n",
    "\n",
    "\n",
    "print (\" Computer Turn : Choose Snake(s)  Water(w) or Gun(g) ?\")\n",
    "randomno = random.randint(1,3)\n",
    "if randomno == 1 :\n",
    "    comp = 's'\n",
    "elif randomno == 2 :\n",
    "    comp = 'w'\n",
    "elif randomno == 3 :\n",
    "    comp = 'g'\n",
    "\n",
    "player = input ( \" It's Your turn : Choose Snake(s)  Water(w) or Gun(g) ? :\" )\n",
    "player_name = input(\" Enter your name : \")\n",
    "gamewin_arg = gamewin( comp , player )\n",
    "\n",
    "\n",
    "# To show what choose by whom \n",
    "print(\" Computer Choose : \", comp)\n",
    "print(\" Player Choose : \", player)\n",
    "\n",
    "\n",
    "if gamewin_arg :\n",
    "    print ( f\" {player_name} You Win !\")\n",
    "else :\n",
    "    print ( f\" {player_name} You lose !\")"
   ]
  },
  {
   "cell_type": "code",
   "execution_count": 45,
   "id": "9ebd8246",
   "metadata": {},
   "outputs": [
    {
     "name": "stdout",
     "output_type": "stream",
     "text": [
      " Enter your guess in between 1 to 100 : 76\n",
      " Lower number please ! \n",
      " Enter your guess in between 1 to 100 : 34\n",
      " Higher number please ! \n",
      " Enter your guess in between 1 to 100 : 56\n",
      " Higher number please ! \n",
      " Enter your guess in between 1 to 100 : 67\n",
      " Higher number please ! \n",
      " Enter your guess in between 1 to 100 : 68\n",
      " Higher number please ! \n",
      " Enter your guess in between 1 to 100 : 69\n",
      " Higher number please ! \n",
      " Enter your guess in between 1 to 100 : 70\n",
      " Higher number please ! \n",
      " Enter your guess in between 1 to 100 : 71\n",
      " Higher number please ! \n",
      " Enter your guess in between 1 to 100 : 72\n",
      " Your guess in correct ! \n",
      " You guess correct at 8 time\n"
     ]
    }
   ],
   "source": [
    "# Project 02 . The Perfect Guess\n",
    "# We are going to write a program that generates a random number and asks the user to guess it.\n",
    "# If the player's guess is higher than the actual number, the program displays \"Lower number please\".\n",
    "# Similarly if the user's guess is too low , the program prints \"higher number please\" . When the user guesses the player used\n",
    "# to arrive at the number .\n",
    "\n",
    "# Hint : use the random module \n",
    "\n",
    "import random\n",
    "\n",
    "ranNumber = random.randint(1,100)\n",
    "guess = 0\n",
    "userguess = None\n",
    "\n",
    "while( userguess != ranNumber ) :\n",
    "    userguess = int(input(\" Enter your guess in between 1 to 100 : \"))\n",
    "    \n",
    "    if userguess == ranNumber :\n",
    "        print (\" Your guess in correct ! \")\n",
    "    else :\n",
    "        if userguess < ranNumber :\n",
    "            print(\" Higher number please ! \")\n",
    "        else :\n",
    "            print(\" Lower number please ! \")\n",
    "        guess += 1\n",
    "print (f\" You guess correct at {guess} time\")\n",
    "with open(\"C:\\\\Interviewpreparatiion\\\\Program practice\\\\Python\\\\hiscore.txt\",\"r\") as f :\n",
    "    hiscore = int(f.read())\n",
    "    \n",
    "if hiscore > guess :\n",
    "    with open(\"C:\\\\Interviewpreparatiion\\\\Program practice\\\\Python\\\\hiscore.txt\",\"w\") as f :\n",
    "        f.write(str(guess))\n",
    "    print(\"You've just broken the previous record ! \")\n",
    "    "
   ]
  },
  {
   "cell_type": "code",
   "execution_count": null,
   "id": "579963c9",
   "metadata": {},
   "outputs": [],
   "source": [
    "# Projecct 03- Implement a student library system using OOP's where students can borrow a book from the list of books .\n",
    "# Create a separate Library and student class . Your program must be menu driven .You are free to choose methods and attributes\n",
    "# of your choice to implement this functionality .\n",
    "\n",
    "class library :\n",
    "    def __init__(self,book) :\n",
    "        self.books = book\n",
    "    def bookavailable(self) :\n",
    "        for book in self.books :\n",
    "            print(\"\\t * \"+book)       \n",
    "    def borrowbook(self,bookname) :\n",
    "        self.bookname = bookname\n",
    "        if bookname in self.books :\n",
    "            print(f\"You are successfully borrowed Book {bookname}\")\n",
    "            self.books.remove(bookname)\n",
    "        else :\n",
    "            print(\"Sorry currently this Book is not available ! Soon you will get this book !\")\n",
    "\n",
    "    def returnbook(self,bookname) :\n",
    "        self.bookname = bookname \n",
    "        self.books.append(self.bookname)\n",
    "        \n",
    "\n",
    "\n",
    "if __name__ == \"__main__\" :\n",
    "    obj = library([\"Algorithms\",\"DSA\",\"Java\",\"Python\",\"C\",\"CPP\"])\n",
    "    while (True) :\n",
    "        \"\"\"\\n *** Welcome To Central Library ! ***\n",
    "        Choose Your option wisely\n",
    "        01 . To check available books \n",
    "        02 . To Borrow Book \n",
    "        03 . To Add/Return Book\n",
    "        04 . Exit \"\"\"\n",
    "        choice = int(input(\" Enter Option : \"))\n",
    "        if choice == 1 :\n",
    "            obj.bookavailable()\n",
    "        elif choice == 2 :\n",
    "            obj.borrowbook(input(\"Enter Add/Return book name : \"))\n",
    "        elif choice == 3 :\n",
    "            obj.returnbook(input(\"Enter Add/Return book name : \"))\n",
    "        elif choice == 4 :\n",
    "            break\n",
    "        else :\n",
    "            print(\" Invalid Opt\")\n"
   ]
  },
  {
   "cell_type": "code",
   "execution_count": null,
   "id": "44b7c0c0",
   "metadata": {},
   "outputs": [],
   "source": [
    "x = \"22_22\"\n",
    "print(float(x))"
   ]
  },
  {
   "cell_type": "code",
   "execution_count": null,
   "id": "91507f13",
   "metadata": {},
   "outputs": [],
   "source": []
  },
  {
   "cell_type": "code",
   "execution_count": null,
   "id": "f1dc6c23",
   "metadata": {},
   "outputs": [],
   "source": []
  },
  {
   "cell_type": "code",
   "execution_count": null,
   "id": "ea0ba038",
   "metadata": {},
   "outputs": [],
   "source": []
  },
  {
   "cell_type": "code",
   "execution_count": null,
   "id": "d827072a",
   "metadata": {},
   "outputs": [],
   "source": []
  },
  {
   "cell_type": "code",
   "execution_count": null,
   "id": "c8e2ca82",
   "metadata": {},
   "outputs": [],
   "source": []
  },
  {
   "cell_type": "code",
   "execution_count": null,
   "id": "d14b5993",
   "metadata": {},
   "outputs": [],
   "source": []
  },
  {
   "cell_type": "code",
   "execution_count": null,
   "id": "bb3e0f17",
   "metadata": {},
   "outputs": [],
   "source": []
  },
  {
   "cell_type": "code",
   "execution_count": null,
   "id": "899713fa",
   "metadata": {},
   "outputs": [],
   "source": []
  },
  {
   "cell_type": "code",
   "execution_count": null,
   "id": "91cbe358",
   "metadata": {},
   "outputs": [],
   "source": []
  },
  {
   "cell_type": "code",
   "execution_count": null,
   "id": "ba7bdf63",
   "metadata": {},
   "outputs": [],
   "source": []
  },
  {
   "cell_type": "code",
   "execution_count": null,
   "id": "b1920c71",
   "metadata": {},
   "outputs": [],
   "source": []
  },
  {
   "cell_type": "code",
   "execution_count": null,
   "id": "909a1eb2",
   "metadata": {},
   "outputs": [],
   "source": []
  },
  {
   "cell_type": "code",
   "execution_count": null,
   "id": "ecbff630",
   "metadata": {},
   "outputs": [],
   "source": []
  },
  {
   "cell_type": "code",
   "execution_count": null,
   "id": "36e495e6",
   "metadata": {},
   "outputs": [],
   "source": []
  },
  {
   "cell_type": "code",
   "execution_count": null,
   "id": "a6b3a14b",
   "metadata": {},
   "outputs": [],
   "source": []
  },
  {
   "cell_type": "code",
   "execution_count": null,
   "id": "003d5722",
   "metadata": {},
   "outputs": [],
   "source": []
  },
  {
   "cell_type": "code",
   "execution_count": null,
   "id": "921bb9ea",
   "metadata": {},
   "outputs": [],
   "source": []
  },
  {
   "cell_type": "code",
   "execution_count": null,
   "id": "e6e319b6",
   "metadata": {},
   "outputs": [],
   "source": []
  }
 ],
 "metadata": {
  "kernelspec": {
   "display_name": "Python 3 (ipykernel)",
   "language": "python",
   "name": "python3"
  },
  "language_info": {
   "codemirror_mode": {
    "name": "ipython",
    "version": 3
   },
   "file_extension": ".py",
   "mimetype": "text/x-python",
   "name": "python",
   "nbconvert_exporter": "python",
   "pygments_lexer": "ipython3",
   "version": "3.11.5"
  }
 },
 "nbformat": 4,
 "nbformat_minor": 5
}
